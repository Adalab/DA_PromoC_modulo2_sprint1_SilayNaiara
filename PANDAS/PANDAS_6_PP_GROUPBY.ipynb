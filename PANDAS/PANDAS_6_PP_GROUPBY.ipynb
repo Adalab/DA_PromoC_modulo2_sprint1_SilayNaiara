{
 "cells": [
  {
   "attachments": {},
   "cell_type": "markdown",
   "metadata": {},
   "source": [
    "SIN TERMINAR"
   ]
  },
  {
   "cell_type": "code",
   "execution_count": 2,
   "metadata": {},
   "outputs": [],
   "source": [
    "import pandas as pd\n",
    "import numpy as np"
   ]
  },
  {
   "attachments": {},
   "cell_type": "markdown",
   "metadata": {},
   "source": [
    "**Pair Programming Pandas VI**"
   ]
  },
  {
   "attachments": {},
   "cell_type": "markdown",
   "metadata": {},
   "source": [
    "Es el momento de poner en práctica los groupby de pandas. Para esto vamos a trabajar con el csv creado en el ejercicio de pair programming anterior. El objetivo de este ejercicio es agrupar los datos para contestar las siguientes preguntas:"
   ]
  },
  {
   "cell_type": "code",
   "execution_count": 3,
   "metadata": {},
   "outputs": [
    {
     "data": {
      "text/html": [
       "<div>\n",
       "<style scoped>\n",
       "    .dataframe tbody tr th:only-of-type {\n",
       "        vertical-align: middle;\n",
       "    }\n",
       "\n",
       "    .dataframe tbody tr th {\n",
       "        vertical-align: top;\n",
       "    }\n",
       "\n",
       "    .dataframe thead th {\n",
       "        text-align: right;\n",
       "    }\n",
       "</style>\n",
       "<table border=\"1\" class=\"dataframe\">\n",
       "  <thead>\n",
       "    <tr style=\"text-align: right;\">\n",
       "      <th></th>\n",
       "      <th>CASE_NUMBER</th>\n",
       "      <th>YEAR</th>\n",
       "      <th>TYPE</th>\n",
       "      <th>COUNTRY</th>\n",
       "      <th>AREA</th>\n",
       "      <th>LOCATION</th>\n",
       "      <th>ACTIVITY</th>\n",
       "      <th>NAME</th>\n",
       "      <th>SEX_</th>\n",
       "      <th>AGE</th>\n",
       "      <th>...</th>\n",
       "      <th>HREF FORMULA</th>\n",
       "      <th>CASE NUMBER.1</th>\n",
       "      <th>CASE NUMBER.2</th>\n",
       "      <th>ORIGINAL ORDER</th>\n",
       "      <th>UNNAMED:22</th>\n",
       "      <th>UNNAMED: 23</th>\n",
       "      <th>UNNAMED: 0_y</th>\n",
       "      <th>FATAL (Y/N)</th>\n",
       "      <th>INJURY</th>\n",
       "      <th>DATE</th>\n",
       "    </tr>\n",
       "  </thead>\n",
       "  <tbody>\n",
       "    <tr>\n",
       "      <th>0</th>\n",
       "      <td>2018.06.25</td>\n",
       "      <td>2018.0</td>\n",
       "      <td>Boating</td>\n",
       "      <td>USA</td>\n",
       "      <td>California</td>\n",
       "      <td>Oceanside, San Diego County</td>\n",
       "      <td>Paddling</td>\n",
       "      <td>Julie Wolfe</td>\n",
       "      <td>F</td>\n",
       "      <td>57</td>\n",
       "      <td>...</td>\n",
       "      <td>NaN</td>\n",
       "      <td>NaN</td>\n",
       "      <td>NaN</td>\n",
       "      <td>NaN</td>\n",
       "      <td>NaN</td>\n",
       "      <td>NaN</td>\n",
       "      <td>5472</td>\n",
       "      <td>N</td>\n",
       "      <td>Lacerations to leg from hooked shark PROVOKED ...</td>\n",
       "      <td>Reported 06-Sep-1905</td>\n",
       "    </tr>\n",
       "    <tr>\n",
       "      <th>1</th>\n",
       "      <td>2018.06.03.a</td>\n",
       "      <td>2018.0</td>\n",
       "      <td>Unprovoked</td>\n",
       "      <td>BRAZIL</td>\n",
       "      <td>Pernambuco</td>\n",
       "      <td>Piedade Beach, Recife</td>\n",
       "      <td>Swimming</td>\n",
       "      <td>Jose Ernesto da Silva</td>\n",
       "      <td>M</td>\n",
       "      <td>18</td>\n",
       "      <td>...</td>\n",
       "      <td>NaN</td>\n",
       "      <td>NaN</td>\n",
       "      <td>NaN</td>\n",
       "      <td>NaN</td>\n",
       "      <td>NaN</td>\n",
       "      <td>NaN</td>\n",
       "      <td>5472</td>\n",
       "      <td>N</td>\n",
       "      <td>Lacerations to leg from hooked shark PROVOKED ...</td>\n",
       "      <td>Reported 06-Sep-1905</td>\n",
       "    </tr>\n",
       "    <tr>\n",
       "      <th>2</th>\n",
       "      <td>2018.05.26.b</td>\n",
       "      <td>2018.0</td>\n",
       "      <td>Unprovoked</td>\n",
       "      <td>USA</td>\n",
       "      <td>Florida</td>\n",
       "      <td>Cocoa Beach, Brevard  County</td>\n",
       "      <td>Walking</td>\n",
       "      <td>Cody High</td>\n",
       "      <td>M</td>\n",
       "      <td>15</td>\n",
       "      <td>...</td>\n",
       "      <td>NaN</td>\n",
       "      <td>NaN</td>\n",
       "      <td>NaN</td>\n",
       "      <td>NaN</td>\n",
       "      <td>NaN</td>\n",
       "      <td>NaN</td>\n",
       "      <td>5472</td>\n",
       "      <td>N</td>\n",
       "      <td>Lacerations to leg from hooked shark PROVOKED ...</td>\n",
       "      <td>Reported 06-Sep-1905</td>\n",
       "    </tr>\n",
       "    <tr>\n",
       "      <th>3</th>\n",
       "      <td>2018.05.24</td>\n",
       "      <td>2018.0</td>\n",
       "      <td>Provoked</td>\n",
       "      <td>AUSTRALIA</td>\n",
       "      <td>Queensland</td>\n",
       "      <td>Cairns Aquarium</td>\n",
       "      <td>Feeding sharks</td>\n",
       "      <td>male</td>\n",
       "      <td>M</td>\n",
       "      <td>32</td>\n",
       "      <td>...</td>\n",
       "      <td>NaN</td>\n",
       "      <td>NaN</td>\n",
       "      <td>NaN</td>\n",
       "      <td>NaN</td>\n",
       "      <td>NaN</td>\n",
       "      <td>NaN</td>\n",
       "      <td>5472</td>\n",
       "      <td>N</td>\n",
       "      <td>Lacerations to leg from hooked shark PROVOKED ...</td>\n",
       "      <td>Reported 06-Sep-1905</td>\n",
       "    </tr>\n",
       "    <tr>\n",
       "      <th>4</th>\n",
       "      <td>2018.05.13.a</td>\n",
       "      <td>2018.0</td>\n",
       "      <td>Invalid</td>\n",
       "      <td>ENGLAND</td>\n",
       "      <td>Cornwall</td>\n",
       "      <td>Off Land's End</td>\n",
       "      <td>Fishing</td>\n",
       "      <td>Max Berryman</td>\n",
       "      <td>M</td>\n",
       "      <td>21</td>\n",
       "      <td>...</td>\n",
       "      <td>NaN</td>\n",
       "      <td>NaN</td>\n",
       "      <td>NaN</td>\n",
       "      <td>NaN</td>\n",
       "      <td>NaN</td>\n",
       "      <td>NaN</td>\n",
       "      <td>5472</td>\n",
       "      <td>N</td>\n",
       "      <td>Lacerations to leg from hooked shark PROVOKED ...</td>\n",
       "      <td>Reported 06-Sep-1905</td>\n",
       "    </tr>\n",
       "  </tbody>\n",
       "</table>\n",
       "<p>5 rows × 29 columns</p>\n",
       "</div>"
      ],
      "text/plain": [
       "    CASE_NUMBER    YEAR        TYPE    COUNTRY        AREA  \\\n",
       "0    2018.06.25  2018.0     Boating        USA  California   \n",
       "1  2018.06.03.a  2018.0  Unprovoked     BRAZIL  Pernambuco   \n",
       "2  2018.05.26.b  2018.0  Unprovoked        USA     Florida   \n",
       "3    2018.05.24  2018.0    Provoked  AUSTRALIA  Queensland   \n",
       "4  2018.05.13.a  2018.0     Invalid    ENGLAND    Cornwall   \n",
       "\n",
       "                       LOCATION        ACTIVITY                    NAME SEX_  \\\n",
       "0   Oceanside, San Diego County        Paddling             Julie Wolfe    F   \n",
       "1         Piedade Beach, Recife        Swimming  Jose Ernesto da Silva     M   \n",
       "2  Cocoa Beach, Brevard  County         Walking               Cody High    M   \n",
       "3               Cairns Aquarium  Feeding sharks                    male    M   \n",
       "4                Off Land's End         Fishing            Max Berryman    M   \n",
       "\n",
       "  AGE  ... HREF FORMULA CASE NUMBER.1 CASE NUMBER.2 ORIGINAL ORDER  \\\n",
       "0  57  ...          NaN           NaN           NaN            NaN   \n",
       "1  18  ...          NaN           NaN           NaN            NaN   \n",
       "2  15  ...          NaN           NaN           NaN            NaN   \n",
       "3  32  ...          NaN           NaN           NaN            NaN   \n",
       "4  21  ...          NaN           NaN           NaN            NaN   \n",
       "\n",
       "   UNNAMED:22 UNNAMED: 23 UNNAMED: 0_y FATAL (Y/N)  \\\n",
       "0         NaN         NaN         5472           N   \n",
       "1         NaN         NaN         5472           N   \n",
       "2         NaN         NaN         5472           N   \n",
       "3         NaN         NaN         5472           N   \n",
       "4         NaN         NaN         5472           N   \n",
       "\n",
       "                                              INJURY                  DATE  \n",
       "0  Lacerations to leg from hooked shark PROVOKED ...  Reported 06-Sep-1905  \n",
       "1  Lacerations to leg from hooked shark PROVOKED ...  Reported 06-Sep-1905  \n",
       "2  Lacerations to leg from hooked shark PROVOKED ...  Reported 06-Sep-1905  \n",
       "3  Lacerations to leg from hooked shark PROVOKED ...  Reported 06-Sep-1905  \n",
       "4  Lacerations to leg from hooked shark PROVOKED ...  Reported 06-Sep-1905  \n",
       "\n",
       "[5 rows x 29 columns]"
      ]
     },
     "execution_count": 3,
     "metadata": {},
     "output_type": "execute_result"
    }
   ],
   "source": [
    "tabla2 = pd.read_csv(\"tablas_unidas2.csv\")\n",
    "tabla2.head()"
   ]
  },
  {
   "cell_type": "code",
   "execution_count": 4,
   "metadata": {},
   "outputs": [
    {
     "data": {
      "text/plain": [
       "Index(['CASE_NUMBER', 'YEAR', 'TYPE', 'COUNTRY', 'AREA', 'LOCATION',\n",
       "       'ACTIVITY', 'NAME', 'SEX_', 'AGE', 'TIME', 'SPECIES_', 'PDF', 'HREF',\n",
       "       'UNNAMED: 0_x', 'CASE NUMBER', 'SEX ', 'SPECIES ',\n",
       "       'INVESTIGATOR OR SOURCE', 'HREF FORMULA', 'CASE NUMBER.1',\n",
       "       'CASE NUMBER.2', 'ORIGINAL ORDER', 'UNNAMED:22', 'UNNAMED: 23',\n",
       "       'UNNAMED: 0_y', 'FATAL (Y/N)', 'INJURY', 'DATE'],\n",
       "      dtype='object')"
      ]
     },
     "execution_count": 4,
     "metadata": {},
     "output_type": "execute_result"
    }
   ],
   "source": [
    "tabla2.columns"
   ]
  },
  {
   "attachments": {},
   "cell_type": "markdown",
   "metadata": {},
   "source": [
    "1. ¿Cuántos ataques hubo por país? Devuelve un DataFrame.\n",
    "\n",
    "📌 NOTA Ordena los resultados de mayor a menor. Esto todavía no lo hemos visto, pero un DataFrame lo podemos ordenar con .sort_values(). Aquí tenéis una explicación de cómo hacerlo."
   ]
  },
  {
   "cell_type": "code",
   "execution_count": 5,
   "metadata": {},
   "outputs": [
    {
     "data": {
      "text/plain": [
       "<pandas.core.groupby.generic.DataFrameGroupBy object at 0x7ff6255cf730>"
      ]
     },
     "execution_count": 5,
     "metadata": {},
     "output_type": "execute_result"
    }
   ],
   "source": [
    "#agrupamos por pais\n",
    "tabla2_groupby_ataques = tabla2.groupby(\"COUNTRY\")\n",
    "tabla2_groupby_ataques"
   ]
  },
  {
   "cell_type": "code",
   "execution_count": 6,
   "metadata": {},
   "outputs": [
    {
     "data": {
      "text/plain": [
       "95"
      ]
     },
     "execution_count": 6,
     "metadata": {},
     "output_type": "execute_result"
    }
   ],
   "source": [
    "# para acceder al número de grupos que tenemos.\n",
    "tabla2_groupby_ataques.ngroups"
   ]
  },
  {
   "cell_type": "code",
   "execution_count": 7,
   "metadata": {},
   "outputs": [
    {
     "data": {
      "text/plain": [
       "{'AMERICAN SAMOA': [1365, 1392], 'ARGENTINA': [1397], 'ASIA?': [1661], 'AUSTRALIA': [3, 6, 11, 12, 13, 14, 15, 19, 21, 22, 27, 28, 38, 41, 44, 46, 49, 50, 51, 54, 60, 63, 68, 70, 77, 82, 83, 85, 87, 102, 105, 114, 117, 119, 120, 128, 138, 139, 146, 147, 148, 152, 154, 155, 159, 163, 164, 177, 179, 182, 183, 191, 192, 193, 196, 198, 203, 223, 230, 235, 236, 237, 239, 249, 255, 257, 262, 266, 268, 277, 278, 282, 284, 285, 287, 288, 289, 290, 291, 292, 298, 301, 314, 317, 318, 319, 321, 324, 331, 334, 336, 337, 356, 357, 358, 363, 369, 370, 379, 388, ...], 'BAHAMAS': [39, 150, 174, 213, 215, 323, 442, 457, 477, 614, 642, 644, 709, 732, 737, 794, 818, 906, 918, 1099, 1164, 1205, 1367, 1372, 1438, 1446, 1586, 1614, 1620], 'BAHREIN': [1585], 'BARBADOS': [1508, 1530, 1533], 'BELIZE': [1646], 'BERMUDA': [1336, 1340, 1562, 1616], 'BRAZIL': [1, 16, 142, 426, 529, 599, 612, 619, 653, 678, 688, 699, 785, 787, 804, 815], 'BRITISH WEST INDIES': [1284], 'BURMA': [1640, 1643], 'Between PORTUGAL & INDIA': [1540], 'CANADA': [1551], 'CEYLON (SRI LANKA)': [1671], 'COLUMBIA': [1192], 'COSTA RICA': [5], 'CROATIA': [408, 1177, 1310], 'CUBA': [20, 398, 591, 1522, 1624], 'DJIBOUTI': [1572], 'ECUADOR': [86, 219], 'EGYPT': [69, 326, 327, 328, 329, 330, 354, 381, 458], 'EL SALVADOR': [1412], 'ENGLAND': [4, 481, 1504, 1509], 'FEDERATED STATES OF MICRONESIA': [1270], 'FIJI': [531, 752, 844, 1250, 1264, 1276, 1351, 1608, 1617, 1657], 'FRANCE': [1517, 1531, 1532, 1542], 'FRENCH POLYNESIA': [78, 79, 134, 144, 185, 226, 233, 305, 1591], 'GRAND CAYMAN': [555], 'GREECE': [1271, 1419, 1548, 1549, 1563, 1581, 1601, 1645], 'GREENLAND': [1515], 'GUAM': [359, 386], 'GUINEA': [1514, 1534], 'HONG KONG': [891, 967], 'ICELAND': [1527], 'INDIA': [1501, 1536, 1537, 1539, 1565, 1622], 'INDONESIA': [45, 76, 1414, 1621], 'IRAN': [1595, 1632, 1633, 1634], 'IRAQ': [1430, 1448, 1611, 1612, 1613, 1635], 'ISRAEL': [1155], 'ITALY': [267, 963, 999, 1049, 1285, 1315, 1482, 1526, 1529, 1550, 1644], 'JAMAICA': [229, 1488, 1510, 1520], 'JAPAN': [892, 949, 1354], 'KENYA': [1552, 1553], 'KIRIBATI': [1626, 1628], 'KOREA': [1590], 'LEBANON': [1566], 'LIBYA': [1573], 'MADAGASCAR': [1618], 'MALDIVES': [7], 'MARSHALL ISLANDS': [791, 1303, 1625], 'MARTINIQUE': [1511], 'MAURITIUS': [805], 'MEDITERRANEAN SEA': [1519, 1604], 'MEXICO': [222, 241, 270, 322, 427, 430, 434, 724, 1116, 1165, 1245, 1283, 1399, 1433, 1544], 'MICRONESIA': [1182], 'MOZAMBIQUE': [362, 828, 833, 1167, 1172, 1319, 1321, 1582, 1609], 'NEW BRITAIN': [1214, 1215], 'NEW CALEDONIA': [80, 187, 313, 320, 429, 432, 456, 491, 496, 783], 'NEW ZEALAND': [75, 186, 231, 316, 360, 403, 502, 585, 622, 664, 857, 1181, 1190, 1191, 1209, 1252, 1254, 1262, 1297, 1302, 1575], 'NICARAGUA': [1623], 'NORTH PACIFIC OCEAN': [1324, 1627], 'OKINAWA': [763], 'PACIFIC OCEAN': [1370, 1639], 'PALAU': [1234, 1265], 'PANAMA': [1432, 1475, 1524, 1554, 1670], 'PAPUA NEW GUINEA': [297, 1210, 1211, 1241, 1263, 1272, 1286, 1294, 1301, 1386, 1391, 1398, 1558, 1597, 1641, 1642], 'PHILIPPINES': [1353], 'RED SEA?': [1598], 'REUNION': [133, 140, 145, 197, 220, 355, 596, 620, 767, 806, 872, 902, 946, 964, 1111, 1588, 1648], 'ROATAN': [1528], 'RUSSIA': [304], 'SAUDI ARABIA': [1636, 1637, 1638], 'SCOTLAND': [372], 'SENEGAL': [1387], 'SEYCHELLES': [306, 1502, 1610], 'SINGAPORE': [1607], 'SOLOMON ISLANDS': [1267, 1589, 1630], 'SOUTH AFRICA': [8, 9, 37, 47, 90, 124, 125, 136, 151, 171, 184, 188, 202, 228, 259, 275, 286, 294, 302, 307, 308, 312, 353, 361, 375, 389, 393, 399, 406, 422, 447, 450, 498, 504, 512, 514, 528, 535, 547, 551, 556, 576, 578, 582, 588, 589, 592, 595, 610, 617, 626, 638, 641, 669, 670, 689, 703, 720, 721, 748, 765, 795, 798, 800, 810, 811, 819, 820, 822, 823, 824, 827, 830, 834, 842, 860, 865, 894, 895, 896, 903, 904, 910, 911, 916, 921, 947, 953, 954, 971, 977, 981, 982, 983, 985, 989, 993, 995, 996, 997, ...], 'SOUTH KOREA': [1101], 'SPAIN': [29, 59, 112, 341, 917, 1518, 1567], 'SRI LANKA': [1578], 'ST. MAARTIN': [550], 'SUDAN': [1568, 1592], 'SWEDEN': [1523], 'TAIWAN': [382, 1244, 1375], 'THAILAND': [106], 'TONGA': [536, 685, 884], 'TURKS & CAICOS': [674], 'UNITED KINGDOM': [373], 'URUGUAY': [1555, 1556], 'USA': [0, 2, 10, 17, 18, 23, 24, 25, 26, 30, 31, 32, 33, 34, 35, 36, 40, 42, 43, 48, 52, 53, 55, 56, 57, 58, 61, 62, 64, 65, 66, 67, 71, 72, 73, 74, 81, 84, 88, 89, 91, 92, 93, 94, 95, 96, 97, 98, 99, 100, 101, 103, 104, 107, 108, 109, 110, 111, 113, 115, 116, 118, 121, 122, 123, 126, 127, 129, 130, 131, 132, 135, 137, 141, 143, 149, 153, 156, 157, 158, 160, 161, 162, 165, 166, 167, 168, 169, 170, 172, 173, 175, 176, 178, 180, 181, 189, 190, 194, 195, ...], 'VANUATU': [572, 1027, 1593, 1594], 'VENEZUELA': [625, 662, 1543, 1579], 'VIETNAM': [345, 348, 349, 1577, 1654]}"
      ]
     },
     "execution_count": 7,
     "metadata": {},
     "output_type": "execute_result"
    }
   ],
   "source": [
    "#indice de los elementos\n",
    "grupos_ataques = tabla2_groupby_ataques.groups\n",
    "grupos_ataques"
   ]
  },
  {
   "cell_type": "code",
   "execution_count": 8,
   "metadata": {},
   "outputs": [
    {
     "data": {
      "text/plain": [
       "COUNTRY\n",
       "AMERICAN SAMOA     0\n",
       "ARGENTINA          0\n",
       "ASIA?              1\n",
       "AUSTRALIA         19\n",
       "BAHAMAS            3\n",
       "Name: CASE NUMBER, dtype: int64"
      ]
     },
     "execution_count": 8,
     "metadata": {},
     "output_type": "execute_result"
    }
   ],
   "source": [
    "ataques_paises2 = tabla2.groupby(\"COUNTRY\")[\"CASE NUMBER\"].count()\n",
    "ataques_paises2.head()"
   ]
  },
  {
   "cell_type": "code",
   "execution_count": 9,
   "metadata": {},
   "outputs": [
    {
     "data": {
      "text/html": [
       "<div>\n",
       "<style scoped>\n",
       "    .dataframe tbody tr th:only-of-type {\n",
       "        vertical-align: middle;\n",
       "    }\n",
       "\n",
       "    .dataframe tbody tr th {\n",
       "        vertical-align: top;\n",
       "    }\n",
       "\n",
       "    .dataframe thead th {\n",
       "        text-align: right;\n",
       "    }\n",
       "</style>\n",
       "<table border=\"1\" class=\"dataframe\">\n",
       "  <thead>\n",
       "    <tr style=\"text-align: right;\">\n",
       "      <th></th>\n",
       "      <th>PAISES</th>\n",
       "      <th>CASOS</th>\n",
       "    </tr>\n",
       "  </thead>\n",
       "  <tbody>\n",
       "    <tr>\n",
       "      <th>0</th>\n",
       "      <td>AMERICAN SAMOA</td>\n",
       "      <td>0</td>\n",
       "    </tr>\n",
       "    <tr>\n",
       "      <th>1</th>\n",
       "      <td>ARGENTINA</td>\n",
       "      <td>0</td>\n",
       "    </tr>\n",
       "    <tr>\n",
       "      <th>2</th>\n",
       "      <td>ASIA?</td>\n",
       "      <td>1</td>\n",
       "    </tr>\n",
       "    <tr>\n",
       "      <th>3</th>\n",
       "      <td>AUSTRALIA</td>\n",
       "      <td>19</td>\n",
       "    </tr>\n",
       "    <tr>\n",
       "      <th>4</th>\n",
       "      <td>BAHAMAS</td>\n",
       "      <td>3</td>\n",
       "    </tr>\n",
       "    <tr>\n",
       "      <th>...</th>\n",
       "      <td>...</td>\n",
       "      <td>...</td>\n",
       "    </tr>\n",
       "    <tr>\n",
       "      <th>90</th>\n",
       "      <td>URUGUAY</td>\n",
       "      <td>2</td>\n",
       "    </tr>\n",
       "    <tr>\n",
       "      <th>91</th>\n",
       "      <td>USA</td>\n",
       "      <td>22</td>\n",
       "    </tr>\n",
       "    <tr>\n",
       "      <th>92</th>\n",
       "      <td>VANUATU</td>\n",
       "      <td>2</td>\n",
       "    </tr>\n",
       "    <tr>\n",
       "      <th>93</th>\n",
       "      <td>VENEZUELA</td>\n",
       "      <td>2</td>\n",
       "    </tr>\n",
       "    <tr>\n",
       "      <th>94</th>\n",
       "      <td>VIETNAM</td>\n",
       "      <td>2</td>\n",
       "    </tr>\n",
       "  </tbody>\n",
       "</table>\n",
       "<p>95 rows × 2 columns</p>\n",
       "</div>"
      ],
      "text/plain": [
       "            PAISES  CASOS\n",
       "0   AMERICAN SAMOA      0\n",
       "1        ARGENTINA      0\n",
       "2            ASIA?      1\n",
       "3        AUSTRALIA     19\n",
       "4          BAHAMAS      3\n",
       "..             ...    ...\n",
       "90         URUGUAY      2\n",
       "91             USA     22\n",
       "92         VANUATU      2\n",
       "93       VENEZUELA      2\n",
       "94         VIETNAM      2\n",
       "\n",
       "[95 rows x 2 columns]"
      ]
     },
     "execution_count": 9,
     "metadata": {},
     "output_type": "execute_result"
    }
   ],
   "source": [
    "ataquespaises2 = pd.DataFrame(list(ataques_paises2.items()), columns=['PAISES', 'CASOS'])\n",
    "ataquespaises2"
   ]
  },
  {
   "cell_type": "code",
   "execution_count": 10,
   "metadata": {},
   "outputs": [
    {
     "data": {
      "text/html": [
       "<div>\n",
       "<style scoped>\n",
       "    .dataframe tbody tr th:only-of-type {\n",
       "        vertical-align: middle;\n",
       "    }\n",
       "\n",
       "    .dataframe tbody tr th {\n",
       "        vertical-align: top;\n",
       "    }\n",
       "\n",
       "    .dataframe thead th {\n",
       "        text-align: right;\n",
       "    }\n",
       "</style>\n",
       "<table border=\"1\" class=\"dataframe\">\n",
       "  <thead>\n",
       "    <tr style=\"text-align: right;\">\n",
       "      <th></th>\n",
       "      <th>PAISES</th>\n",
       "      <th>CASOS</th>\n",
       "    </tr>\n",
       "  </thead>\n",
       "  <tbody>\n",
       "    <tr>\n",
       "      <th>0</th>\n",
       "      <td>AMERICAN SAMOA</td>\n",
       "      <td>0</td>\n",
       "    </tr>\n",
       "    <tr>\n",
       "      <th>20</th>\n",
       "      <td>ECUADOR</td>\n",
       "      <td>0</td>\n",
       "    </tr>\n",
       "    <tr>\n",
       "      <th>21</th>\n",
       "      <td>EGYPT</td>\n",
       "      <td>0</td>\n",
       "    </tr>\n",
       "    <tr>\n",
       "      <th>22</th>\n",
       "      <td>EL SALVADOR</td>\n",
       "      <td>0</td>\n",
       "    </tr>\n",
       "    <tr>\n",
       "      <th>49</th>\n",
       "      <td>MALDIVES</td>\n",
       "      <td>0</td>\n",
       "    </tr>\n",
       "  </tbody>\n",
       "</table>\n",
       "</div>"
      ],
      "text/plain": [
       "            PAISES  CASOS\n",
       "0   AMERICAN SAMOA      0\n",
       "20         ECUADOR      0\n",
       "21           EGYPT      0\n",
       "22     EL SALVADOR      0\n",
       "49        MALDIVES      0"
      ]
     },
     "execution_count": 10,
     "metadata": {},
     "output_type": "execute_result"
    }
   ],
   "source": [
    "ataquespaises2_ordenado = ataquespaises2.sort_values('CASOS')\n",
    "ataquespaises2_ordenado.head()"
   ]
  },
  {
   "attachments": {},
   "cell_type": "markdown",
   "metadata": {},
   "source": [
    "2. ¿Cuántos ataques ha habido por año? Devuelve un DataFrame. De nuevo ordena los resultados de mayor a menor."
   ]
  },
  {
   "cell_type": "code",
   "execution_count": 11,
   "metadata": {},
   "outputs": [
    {
     "data": {
      "text/plain": [
       "<pandas.core.groupby.generic.DataFrameGroupBy object at 0x7ff6233d3550>"
      ]
     },
     "execution_count": 11,
     "metadata": {},
     "output_type": "execute_result"
    }
   ],
   "source": [
    "#agrupamos por año\n",
    "tabla2_groupby_año = tabla2.groupby(\"YEAR\")\n",
    "tabla2_groupby_año"
   ]
  },
  {
   "cell_type": "code",
   "execution_count": 12,
   "metadata": {},
   "outputs": [
    {
     "data": {
      "text/plain": [
       "147"
      ]
     },
     "execution_count": 12,
     "metadata": {},
     "output_type": "execute_result"
    }
   ],
   "source": [
    "# para acceder al número de grupos que tenemos.\n",
    "tabla2_groupby_año.ngroups"
   ]
  },
  {
   "cell_type": "code",
   "execution_count": 13,
   "metadata": {},
   "outputs": [
    {
     "data": {
      "text/plain": [
       "YEAR\n",
       "0.0       125\n",
       "5.0         1\n",
       "77.0        1\n",
       "500.0       1\n",
       "1543.0      1\n",
       "Name: CASE NUMBER, dtype: int64"
      ]
     },
     "execution_count": 13,
     "metadata": {},
     "output_type": "execute_result"
    }
   ],
   "source": [
    "ataques_años2 = tabla2.groupby(\"YEAR\")[\"CASE NUMBER\"].count()\n",
    "ataques_años2.head()"
   ]
  },
  {
   "cell_type": "code",
   "execution_count": 14,
   "metadata": {},
   "outputs": [
    {
     "data": {
      "text/html": [
       "<div>\n",
       "<style scoped>\n",
       "    .dataframe tbody tr th:only-of-type {\n",
       "        vertical-align: middle;\n",
       "    }\n",
       "\n",
       "    .dataframe tbody tr th {\n",
       "        vertical-align: top;\n",
       "    }\n",
       "\n",
       "    .dataframe thead th {\n",
       "        text-align: right;\n",
       "    }\n",
       "</style>\n",
       "<table border=\"1\" class=\"dataframe\">\n",
       "  <thead>\n",
       "    <tr style=\"text-align: right;\">\n",
       "      <th></th>\n",
       "      <th>AÑOS</th>\n",
       "      <th>CASOS</th>\n",
       "    </tr>\n",
       "  </thead>\n",
       "  <tbody>\n",
       "    <tr>\n",
       "      <th>0</th>\n",
       "      <td>0.0</td>\n",
       "      <td>125</td>\n",
       "    </tr>\n",
       "    <tr>\n",
       "      <th>1</th>\n",
       "      <td>5.0</td>\n",
       "      <td>1</td>\n",
       "    </tr>\n",
       "    <tr>\n",
       "      <th>2</th>\n",
       "      <td>77.0</td>\n",
       "      <td>1</td>\n",
       "    </tr>\n",
       "    <tr>\n",
       "      <th>3</th>\n",
       "      <td>500.0</td>\n",
       "      <td>1</td>\n",
       "    </tr>\n",
       "    <tr>\n",
       "      <th>4</th>\n",
       "      <td>1543.0</td>\n",
       "      <td>1</td>\n",
       "    </tr>\n",
       "    <tr>\n",
       "      <th>...</th>\n",
       "      <td>...</td>\n",
       "      <td>...</td>\n",
       "    </tr>\n",
       "    <tr>\n",
       "      <th>142</th>\n",
       "      <td>2014.0</td>\n",
       "      <td>0</td>\n",
       "    </tr>\n",
       "    <tr>\n",
       "      <th>143</th>\n",
       "      <td>2015.0</td>\n",
       "      <td>0</td>\n",
       "    </tr>\n",
       "    <tr>\n",
       "      <th>144</th>\n",
       "      <td>2016.0</td>\n",
       "      <td>0</td>\n",
       "    </tr>\n",
       "    <tr>\n",
       "      <th>145</th>\n",
       "      <td>2017.0</td>\n",
       "      <td>0</td>\n",
       "    </tr>\n",
       "    <tr>\n",
       "      <th>146</th>\n",
       "      <td>2018.0</td>\n",
       "      <td>0</td>\n",
       "    </tr>\n",
       "  </tbody>\n",
       "</table>\n",
       "<p>147 rows × 2 columns</p>\n",
       "</div>"
      ],
      "text/plain": [
       "       AÑOS  CASOS\n",
       "0       0.0    125\n",
       "1       5.0      1\n",
       "2      77.0      1\n",
       "3     500.0      1\n",
       "4    1543.0      1\n",
       "..      ...    ...\n",
       "142  2014.0      0\n",
       "143  2015.0      0\n",
       "144  2016.0      0\n",
       "145  2017.0      0\n",
       "146  2018.0      0\n",
       "\n",
       "[147 rows x 2 columns]"
      ]
     },
     "execution_count": 14,
     "metadata": {},
     "output_type": "execute_result"
    }
   ],
   "source": [
    "ataquesaños2 = pd.DataFrame(list(ataques_años2.items()), columns=['AÑOS', 'CASOS'])\n",
    "ataquesaños2"
   ]
  },
  {
   "cell_type": "code",
   "execution_count": 15,
   "metadata": {},
   "outputs": [
    {
     "data": {
      "text/html": [
       "<div>\n",
       "<style scoped>\n",
       "    .dataframe tbody tr th:only-of-type {\n",
       "        vertical-align: middle;\n",
       "    }\n",
       "\n",
       "    .dataframe tbody tr th {\n",
       "        vertical-align: top;\n",
       "    }\n",
       "\n",
       "    .dataframe thead th {\n",
       "        text-align: right;\n",
       "    }\n",
       "</style>\n",
       "<table border=\"1\" class=\"dataframe\">\n",
       "  <thead>\n",
       "    <tr style=\"text-align: right;\">\n",
       "      <th></th>\n",
       "      <th>AÑOS</th>\n",
       "      <th>CASOS</th>\n",
       "    </tr>\n",
       "  </thead>\n",
       "  <tbody>\n",
       "    <tr>\n",
       "      <th>73</th>\n",
       "      <td>1945.0</td>\n",
       "      <td>0</td>\n",
       "    </tr>\n",
       "    <tr>\n",
       "      <th>94</th>\n",
       "      <td>1966.0</td>\n",
       "      <td>0</td>\n",
       "    </tr>\n",
       "    <tr>\n",
       "      <th>95</th>\n",
       "      <td>1967.0</td>\n",
       "      <td>0</td>\n",
       "    </tr>\n",
       "    <tr>\n",
       "      <th>96</th>\n",
       "      <td>1968.0</td>\n",
       "      <td>0</td>\n",
       "    </tr>\n",
       "    <tr>\n",
       "      <th>97</th>\n",
       "      <td>1969.0</td>\n",
       "      <td>0</td>\n",
       "    </tr>\n",
       "  </tbody>\n",
       "</table>\n",
       "</div>"
      ],
      "text/plain": [
       "      AÑOS  CASOS\n",
       "73  1945.0      0\n",
       "94  1966.0      0\n",
       "95  1967.0      0\n",
       "96  1968.0      0\n",
       "97  1969.0      0"
      ]
     },
     "execution_count": 15,
     "metadata": {},
     "output_type": "execute_result"
    }
   ],
   "source": [
    "ataquesaños2_ordenado = ataquesaños2.sort_values('CASOS')\n",
    "ataquesaños2_ordenado.head()"
   ]
  },
  {
   "attachments": {},
   "cell_type": "markdown",
   "metadata": {},
   "source": [
    "3. ¿Cuántos ataques hubo por año y sexo? Devolved un DataFrame solo del año 2000 en adelante."
   ]
  },
  {
   "cell_type": "code",
   "execution_count": 16,
   "metadata": {},
   "outputs": [
    {
     "data": {
      "text/plain": [
       "SEX \n",
       "F     15\n",
       "M    141\n",
       "Name: YEAR, dtype: int64"
      ]
     },
     "execution_count": 16,
     "metadata": {},
     "output_type": "execute_result"
    }
   ],
   "source": [
    "ataques_años_sexo = tabla2.groupby(\"SEX \")[\"YEAR\"].count()\n",
    "ataques_años_sexo\n"
   ]
  },
  {
   "cell_type": "code",
   "execution_count": 17,
   "metadata": {},
   "outputs": [
    {
     "data": {
      "text/html": [
       "<div>\n",
       "<style scoped>\n",
       "    .dataframe tbody tr th:only-of-type {\n",
       "        vertical-align: middle;\n",
       "    }\n",
       "\n",
       "    .dataframe tbody tr th {\n",
       "        vertical-align: top;\n",
       "    }\n",
       "\n",
       "    .dataframe thead th {\n",
       "        text-align: right;\n",
       "    }\n",
       "</style>\n",
       "<table border=\"1\" class=\"dataframe\">\n",
       "  <thead>\n",
       "    <tr style=\"text-align: right;\">\n",
       "      <th></th>\n",
       "      <th>SEX</th>\n",
       "      <th>YEAR</th>\n",
       "    </tr>\n",
       "  </thead>\n",
       "  <tbody>\n",
       "    <tr>\n",
       "      <th>0</th>\n",
       "      <td>F</td>\n",
       "      <td>15</td>\n",
       "    </tr>\n",
       "    <tr>\n",
       "      <th>1</th>\n",
       "      <td>M</td>\n",
       "      <td>141</td>\n",
       "    </tr>\n",
       "  </tbody>\n",
       "</table>\n",
       "</div>"
      ],
      "text/plain": [
       "  SEX   YEAR\n",
       "0    F    15\n",
       "1    M   141"
      ]
     },
     "execution_count": 17,
     "metadata": {},
     "output_type": "execute_result"
    }
   ],
   "source": [
    "ataques_años_sexo2 = pd.DataFrame(list(ataques_años_sexo.items()), columns=['SEX ','YEAR'])\n",
    "ataques_años_sexo2\n"
   ]
  },
  {
   "attachments": {},
   "cell_type": "markdown",
   "metadata": {},
   "source": [
    "4. Primero extraed solo las filas que correspondan a USA, AUSTRALIA y SOUTH AFRICA. ¿Cuántos de los ataques fueron letales por sexo? Devuelve un DataFrame.\n"
   ]
  },
  {
   "cell_type": "code",
   "execution_count": 18,
   "metadata": {},
   "outputs": [
    {
     "data": {
      "text/plain": [
       "COUNTRY\n",
       "AMERICAN SAMOA      2\n",
       "ARGENTINA           1\n",
       "ASIA?               1\n",
       "AUSTRALIA         343\n",
       "BAHAMAS            29\n",
       "                 ... \n",
       "URUGUAY             2\n",
       "USA               740\n",
       "VANUATU             4\n",
       "VENEZUELA           4\n",
       "VIETNAM             5\n",
       "Name: FATAL (Y/N), Length: 95, dtype: int64"
      ]
     },
     "execution_count": 18,
     "metadata": {},
     "output_type": "execute_result"
    }
   ],
   "source": [
    "ataques_pais = tabla2.groupby(\"COUNTRY\")[\"FATAL (Y/N)\"].count()\n",
    "ataques_pais"
   ]
  },
  {
   "cell_type": "code",
   "execution_count": 19,
   "metadata": {},
   "outputs": [
    {
     "data": {
      "text/html": [
       "<div>\n",
       "<style scoped>\n",
       "    .dataframe tbody tr th:only-of-type {\n",
       "        vertical-align: middle;\n",
       "    }\n",
       "\n",
       "    .dataframe tbody tr th {\n",
       "        vertical-align: top;\n",
       "    }\n",
       "\n",
       "    .dataframe thead th {\n",
       "        text-align: right;\n",
       "    }\n",
       "</style>\n",
       "<table border=\"1\" class=\"dataframe\">\n",
       "  <thead>\n",
       "    <tr style=\"text-align: right;\">\n",
       "      <th></th>\n",
       "      <th>COUNTRY</th>\n",
       "      <th>FATAL</th>\n",
       "    </tr>\n",
       "  </thead>\n",
       "  <tbody>\n",
       "    <tr>\n",
       "      <th>0</th>\n",
       "      <td>AMERICAN SAMOA</td>\n",
       "      <td>2</td>\n",
       "    </tr>\n",
       "    <tr>\n",
       "      <th>1</th>\n",
       "      <td>ARGENTINA</td>\n",
       "      <td>1</td>\n",
       "    </tr>\n",
       "    <tr>\n",
       "      <th>2</th>\n",
       "      <td>ASIA?</td>\n",
       "      <td>1</td>\n",
       "    </tr>\n",
       "    <tr>\n",
       "      <th>3</th>\n",
       "      <td>AUSTRALIA</td>\n",
       "      <td>343</td>\n",
       "    </tr>\n",
       "    <tr>\n",
       "      <th>4</th>\n",
       "      <td>BAHAMAS</td>\n",
       "      <td>29</td>\n",
       "    </tr>\n",
       "    <tr>\n",
       "      <th>...</th>\n",
       "      <td>...</td>\n",
       "      <td>...</td>\n",
       "    </tr>\n",
       "    <tr>\n",
       "      <th>90</th>\n",
       "      <td>URUGUAY</td>\n",
       "      <td>2</td>\n",
       "    </tr>\n",
       "    <tr>\n",
       "      <th>91</th>\n",
       "      <td>USA</td>\n",
       "      <td>740</td>\n",
       "    </tr>\n",
       "    <tr>\n",
       "      <th>92</th>\n",
       "      <td>VANUATU</td>\n",
       "      <td>4</td>\n",
       "    </tr>\n",
       "    <tr>\n",
       "      <th>93</th>\n",
       "      <td>VENEZUELA</td>\n",
       "      <td>4</td>\n",
       "    </tr>\n",
       "    <tr>\n",
       "      <th>94</th>\n",
       "      <td>VIETNAM</td>\n",
       "      <td>5</td>\n",
       "    </tr>\n",
       "  </tbody>\n",
       "</table>\n",
       "<p>95 rows × 2 columns</p>\n",
       "</div>"
      ],
      "text/plain": [
       "          COUNTRY   FATAL\n",
       "0   AMERICAN SAMOA      2\n",
       "1        ARGENTINA      1\n",
       "2            ASIA?      1\n",
       "3        AUSTRALIA    343\n",
       "4          BAHAMAS     29\n",
       "..             ...    ...\n",
       "90         URUGUAY      2\n",
       "91             USA    740\n",
       "92         VANUATU      4\n",
       "93       VENEZUELA      4\n",
       "94         VIETNAM      5\n",
       "\n",
       "[95 rows x 2 columns]"
      ]
     },
     "execution_count": 19,
     "metadata": {},
     "output_type": "execute_result"
    }
   ],
   "source": [
    "ataques_pais2 = pd.DataFrame(list(ataques_pais.items()), columns=['COUNTRY ','FATAL'])\n",
    "ataques_pais2"
   ]
  },
  {
   "attachments": {},
   "cell_type": "markdown",
   "metadata": {},
   "source": [
    "5. Usando el DataFrame creado en el ejercicio anterior. ¿En qué país hubo más ataques?"
   ]
  },
  {
   "cell_type": "code",
   "execution_count": 24,
   "metadata": {},
   "outputs": [
    {
     "data": {
      "text/html": [
       "<div>\n",
       "<style scoped>\n",
       "    .dataframe tbody tr th:only-of-type {\n",
       "        vertical-align: middle;\n",
       "    }\n",
       "\n",
       "    .dataframe tbody tr th {\n",
       "        vertical-align: top;\n",
       "    }\n",
       "\n",
       "    .dataframe thead th {\n",
       "        text-align: right;\n",
       "    }\n",
       "</style>\n",
       "<table border=\"1\" class=\"dataframe\">\n",
       "  <thead>\n",
       "    <tr style=\"text-align: right;\">\n",
       "      <th></th>\n",
       "      <th>COUNTRY</th>\n",
       "      <th>FATAL</th>\n",
       "    </tr>\n",
       "  </thead>\n",
       "  <tbody>\n",
       "    <tr>\n",
       "      <th>91</th>\n",
       "      <td>USA</td>\n",
       "      <td>740</td>\n",
       "    </tr>\n",
       "    <tr>\n",
       "      <th>3</th>\n",
       "      <td>AUSTRALIA</td>\n",
       "      <td>343</td>\n",
       "    </tr>\n",
       "    <tr>\n",
       "      <th>78</th>\n",
       "      <td>SOUTH AFRICA</td>\n",
       "      <td>234</td>\n",
       "    </tr>\n",
       "    <tr>\n",
       "      <th>4</th>\n",
       "      <td>BAHAMAS</td>\n",
       "      <td>29</td>\n",
       "    </tr>\n",
       "    <tr>\n",
       "      <th>59</th>\n",
       "      <td>NEW ZEALAND</td>\n",
       "      <td>21</td>\n",
       "    </tr>\n",
       "    <tr>\n",
       "      <th>...</th>\n",
       "      <td>...</td>\n",
       "      <td>...</td>\n",
       "    </tr>\n",
       "    <tr>\n",
       "      <th>68</th>\n",
       "      <td>RED SEA?</td>\n",
       "      <td>1</td>\n",
       "    </tr>\n",
       "    <tr>\n",
       "      <th>22</th>\n",
       "      <td>EL SALVADOR</td>\n",
       "      <td>1</td>\n",
       "    </tr>\n",
       "    <tr>\n",
       "      <th>47</th>\n",
       "      <td>LIBYA</td>\n",
       "      <td>1</td>\n",
       "    </tr>\n",
       "    <tr>\n",
       "      <th>34</th>\n",
       "      <td>ICELAND</td>\n",
       "      <td>0</td>\n",
       "    </tr>\n",
       "    <tr>\n",
       "      <th>70</th>\n",
       "      <td>ROATAN</td>\n",
       "      <td>0</td>\n",
       "    </tr>\n",
       "  </tbody>\n",
       "</table>\n",
       "<p>95 rows × 2 columns</p>\n",
       "</div>"
      ],
      "text/plain": [
       "        COUNTRY   FATAL\n",
       "91           USA    740\n",
       "3      AUSTRALIA    343\n",
       "78  SOUTH AFRICA    234\n",
       "4        BAHAMAS     29\n",
       "59   NEW ZEALAND     21\n",
       "..           ...    ...\n",
       "68      RED SEA?      1\n",
       "22   EL SALVADOR      1\n",
       "47         LIBYA      1\n",
       "34       ICELAND      0\n",
       "70        ROATAN      0\n",
       "\n",
       "[95 rows x 2 columns]"
      ]
     },
     "execution_count": 24,
     "metadata": {},
     "output_type": "execute_result"
    }
   ],
   "source": [
    "mas_ataques = ataques_pais2.sort_values(\"FATAL\", ascending=False)\n",
    "mas_ataques"
   ]
  },
  {
   "attachments": {},
   "cell_type": "markdown",
   "metadata": {},
   "source": [
    "6. ¿Qué y cuántos tipos de ataques hubo por país?"
   ]
  },
  {
   "cell_type": "code",
   "execution_count": 53,
   "metadata": {},
   "outputs": [
    {
     "data": {
      "text/html": [
       "<div>\n",
       "<style scoped>\n",
       "    .dataframe tbody tr th:only-of-type {\n",
       "        vertical-align: middle;\n",
       "    }\n",
       "\n",
       "    .dataframe tbody tr th {\n",
       "        vertical-align: top;\n",
       "    }\n",
       "\n",
       "    .dataframe thead th {\n",
       "        text-align: right;\n",
       "    }\n",
       "</style>\n",
       "<table border=\"1\" class=\"dataframe\">\n",
       "  <thead>\n",
       "    <tr style=\"text-align: right;\">\n",
       "      <th></th>\n",
       "      <th></th>\n",
       "      <th>TYPE</th>\n",
       "    </tr>\n",
       "    <tr>\n",
       "      <th>COUNTRY</th>\n",
       "      <th>TYPE</th>\n",
       "      <th></th>\n",
       "    </tr>\n",
       "  </thead>\n",
       "  <tbody>\n",
       "    <tr>\n",
       "      <th>AMERICAN SAMOA</th>\n",
       "      <th>Unprovoked</th>\n",
       "      <td>2</td>\n",
       "    </tr>\n",
       "    <tr>\n",
       "      <th>ARGENTINA</th>\n",
       "      <th>Unprovoked</th>\n",
       "      <td>1</td>\n",
       "    </tr>\n",
       "    <tr>\n",
       "      <th>ASIA?</th>\n",
       "      <th>Unprovoked</th>\n",
       "      <td>1</td>\n",
       "    </tr>\n",
       "    <tr>\n",
       "      <th rowspan=\"2\" valign=\"top\">AUSTRALIA</th>\n",
       "      <th>Unprovoked</th>\n",
       "      <td>290</td>\n",
       "    </tr>\n",
       "    <tr>\n",
       "      <th>Provoked</th>\n",
       "      <td>27</td>\n",
       "    </tr>\n",
       "  </tbody>\n",
       "</table>\n",
       "</div>"
      ],
      "text/plain": [
       "                           TYPE\n",
       "COUNTRY        TYPE            \n",
       "AMERICAN SAMOA Unprovoked     2\n",
       "ARGENTINA      Unprovoked     1\n",
       "ASIA?          Unprovoked     1\n",
       "AUSTRALIA      Unprovoked   290\n",
       "               Provoked      27"
      ]
     },
     "execution_count": 53,
     "metadata": {},
     "output_type": "execute_result"
    }
   ],
   "source": [
    "tipos_ataques_pais = pd.DataFrame(tabla2.groupby(\"COUNTRY\")[\"TYPE\"].value_counts())\n",
    "tipos_ataques_pais.head()"
   ]
  }
 ],
 "metadata": {
  "kernelspec": {
   "display_name": "base",
   "language": "python",
   "name": "python3"
  },
  "language_info": {
   "codemirror_mode": {
    "name": "ipython",
    "version": 3
   },
   "file_extension": ".py",
   "mimetype": "text/x-python",
   "name": "python",
   "nbconvert_exporter": "python",
   "pygments_lexer": "ipython3",
   "version": "3.9.13"
  },
  "orig_nbformat": 4,
  "vscode": {
   "interpreter": {
    "hash": "40d3a090f54c6569ab1632332b64b2c03c39dcf918b08424e98f38b5ae0af88f"
   }
  }
 },
 "nbformat": 4,
 "nbformat_minor": 2
}
