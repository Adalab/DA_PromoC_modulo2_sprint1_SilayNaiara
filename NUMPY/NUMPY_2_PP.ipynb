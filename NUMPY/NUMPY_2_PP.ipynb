{
 "cells": [
  {
   "cell_type": "code",
   "execution_count": 1,
   "metadata": {},
   "outputs": [],
   "source": [
    "import numpy as np\n",
    "import pandas as pd"
   ]
  },
  {
   "attachments": {},
   "cell_type": "markdown",
   "metadata": {},
   "source": [
    "**Pair Programming NumPy II**"
   ]
  },
  {
   "cell_type": "markdown",
   "metadata": {},
   "source": [
    "1.- Cread un array de dos dimensiones de 5 filas y 3 columnas.\n",
    "Sobre el array creado anteriormente, extraed:"
   ]
  },
  {
   "cell_type": "code",
   "execution_count": 2,
   "metadata": {},
   "outputs": [
    {
     "data": {
      "text/plain": [
       "array([[0.65941409, 0.34690316, 0.510392  ],\n",
       "       [0.52167416, 0.55347569, 0.90988956],\n",
       "       [0.23019123, 0.85422532, 0.7653243 ],\n",
       "       [0.939183  , 0.84629606, 0.86625944],\n",
       "       [0.42366987, 0.27472739, 0.17420852]])"
      ]
     },
     "execution_count": 2,
     "metadata": {},
     "output_type": "execute_result"
    }
   ],
   "source": [
    "bidimensional = np.random.rand(5, 3)\n",
    "bidimensional"
   ]
  },
  {
   "cell_type": "markdown",
   "metadata": {},
   "source": [
    "- El valor de la primera fila y la segunda columna."
   ]
  },
  {
   "cell_type": "code",
   "execution_count": 3,
   "metadata": {},
   "outputs": [
    {
     "data": {
      "text/plain": [
       "0.34690315921566073"
      ]
     },
     "execution_count": 3,
     "metadata": {},
     "output_type": "execute_result"
    }
   ],
   "source": [
    "bidimensional[0,1]"
   ]
  },
  {
   "cell_type": "markdown",
   "metadata": {},
   "source": [
    "- Los valores de la segunda fila y las dos primeras columnas."
   ]
  },
  {
   "cell_type": "code",
   "execution_count": 4,
   "metadata": {},
   "outputs": [
    {
     "data": {
      "text/plain": [
       "array([0.52167416, 0.55347569])"
      ]
     },
     "execution_count": 4,
     "metadata": {},
     "output_type": "execute_result"
    }
   ],
   "source": [
    "bidimensional[1,0:2]"
   ]
  },
  {
   "cell_type": "markdown",
   "metadata": {},
   "source": [
    "- Extraed las filas pares (incluyendo la 0) y todas las columnas."
   ]
  },
  {
   "cell_type": "code",
   "execution_count": 5,
   "metadata": {},
   "outputs": [
    {
     "data": {
      "text/plain": [
       "array([[0.65941409, 0.34690316, 0.510392  ],\n",
       "       [0.23019123, 0.85422532, 0.7653243 ],\n",
       "       [0.42366987, 0.27472739, 0.17420852]])"
      ]
     },
     "execution_count": 5,
     "metadata": {},
     "output_type": "execute_result"
    }
   ],
   "source": [
    "bidimensional[0::2,:]"
   ]
  },
  {
   "cell_type": "markdown",
   "metadata": {},
   "source": [
    "- Extraed los valores que sean mayores que 0.5."
   ]
  },
  {
   "cell_type": "code",
   "execution_count": 6,
   "metadata": {},
   "outputs": [
    {
     "data": {
      "text/plain": [
       "array([0.65941409, 0.510392  , 0.52167416, 0.55347569, 0.90988956,\n",
       "       0.85422532, 0.7653243 , 0.939183  , 0.84629606, 0.86625944])"
      ]
     },
     "execution_count": 6,
     "metadata": {},
     "output_type": "execute_result"
    }
   ],
   "source": [
    "bidimensional[bidimensional > 0.5]"
   ]
  },
  {
   "cell_type": "markdown",
   "metadata": {},
   "source": [
    "- Extraed los valores menores que 0.2 o mayores que 0.5"
   ]
  },
  {
   "cell_type": "code",
   "execution_count": 7,
   "metadata": {},
   "outputs": [
    {
     "data": {
      "text/plain": [
       "array([0.65941409, 0.510392  , 0.52167416, 0.55347569, 0.90988956,\n",
       "       0.85422532, 0.7653243 , 0.939183  , 0.84629606, 0.86625944,\n",
       "       0.17420852])"
      ]
     },
     "execution_count": 7,
     "metadata": {},
     "output_type": "execute_result"
    }
   ],
   "source": [
    "bidimensional[(bidimensional < 0.2) | (bidimensional > 0.5)]"
   ]
  },
  {
   "cell_type": "markdown",
   "metadata": {},
   "source": [
    "2.- Cread dos array de tres dimensiones:\n",
    "El primero de 2 matrices, 5 filas y 3 columnas.\n",
    "El segundo de 3 matrices, 2 filas y 5 columnas."
   ]
  },
  {
   "cell_type": "code",
   "execution_count": 8,
   "metadata": {},
   "outputs": [
    {
     "data": {
      "text/plain": [
       "array([[[24, 38, 25],\n",
       "        [20, 34, 30],\n",
       "        [38, 37, 20],\n",
       "        [30, 38, 34],\n",
       "        [28, 23, 22]],\n",
       "\n",
       "       [[35, 25, 30],\n",
       "        [23, 35, 26],\n",
       "        [32, 31, 22],\n",
       "        [28, 26, 31],\n",
       "        [27, 31, 37]]])"
      ]
     },
     "execution_count": 8,
     "metadata": {},
     "output_type": "execute_result"
    }
   ],
   "source": [
    "primer_array = np.random.randint(20,40,(2,5,3))\n",
    "primer_array"
   ]
  },
  {
   "cell_type": "code",
   "execution_count": 9,
   "metadata": {},
   "outputs": [
    {
     "data": {
      "text/plain": [
       "array([[[21, 34, 37, 29, 23],\n",
       "        [28, 25, 39, 27, 27]],\n",
       "\n",
       "       [[22, 29, 38, 24, 23],\n",
       "        [37, 32, 36, 37, 32]],\n",
       "\n",
       "       [[38, 37, 35, 33, 20],\n",
       "        [23, 26, 36, 39, 33]]])"
      ]
     },
     "execution_count": 9,
     "metadata": {},
     "output_type": "execute_result"
    }
   ],
   "source": [
    "segundo_array = np.random.randint(20,40,(3,2,5))\n",
    "segundo_array"
   ]
  },
  {
   "cell_type": "markdown",
   "metadata": {},
   "source": [
    "Haced un análisis exploratorio de los array creados. Recordad que en el ejercicio de ayer nos creamos una función para esto."
   ]
  },
  {
   "cell_type": "code",
   "execution_count": 10,
   "metadata": {},
   "outputs": [],
   "source": [
    "def propiedades_array(array):\n",
    "    tipo=f\"Los elementos son de tipo {array.dtype}\"\n",
    "    tamaño=f\"Tiene {array.size} elementos\"\n",
    "    forma=f\"Su forma es: {array.shape}\"\n",
    "    dimension=f\"Es de {array.ndim} dimensiones\"\n",
    "    return tipo,tamaño,forma,dimension"
   ]
  },
  {
   "cell_type": "code",
   "execution_count": 11,
   "metadata": {},
   "outputs": [
    {
     "data": {
      "text/plain": [
       "('Los elementos son de tipo int64',\n",
       " 'Tiene 30 elementos',\n",
       " 'Su forma es: (2, 5, 3)',\n",
       " 'Es de 3 dimensiones')"
      ]
     },
     "execution_count": 11,
     "metadata": {},
     "output_type": "execute_result"
    }
   ],
   "source": [
    "propiedades_array (primer_array)"
   ]
  },
  {
   "cell_type": "code",
   "execution_count": 12,
   "metadata": {},
   "outputs": [
    {
     "data": {
      "text/plain": [
       "('Los elementos son de tipo int64',\n",
       " 'Tiene 30 elementos',\n",
       " 'Su forma es: (3, 2, 5)',\n",
       " 'Es de 3 dimensiones')"
      ]
     },
     "execution_count": 12,
     "metadata": {},
     "output_type": "execute_result"
    }
   ],
   "source": [
    "propiedades_array (segundo_array)"
   ]
  },
  {
   "cell_type": "markdown",
   "metadata": {},
   "source": [
    "Sumad los dos arrays. ¿Podéis? ¿Por qué?"
   ]
  },
  {
   "cell_type": "code",
   "execution_count": 13,
   "metadata": {},
   "outputs": [],
   "source": [
    "#No se puede por que no tienen la misma forma."
   ]
  },
  {
   "cell_type": "markdown",
   "metadata": {},
   "source": [
    "Para cambiar la forma de un array y poder hacer operaciones entre arrays que tienen distintas\n",
    "formas hemos aprendido dos métodos:\n",
    "- .reshape()\n",
    "- .transpose()\n",
    "\n",
    "Utiliza estas dos funciones para cambiar la forma de los array y hacer operaciones entre ellos."
   ]
  },
  {
   "cell_type": "code",
   "execution_count": 14,
   "metadata": {},
   "outputs": [
    {
     "data": {
      "text/plain": [
       "array([[[21, 34, 37],\n",
       "        [29, 23, 28],\n",
       "        [25, 39, 27],\n",
       "        [27, 22, 29],\n",
       "        [38, 24, 23]],\n",
       "\n",
       "       [[37, 32, 36],\n",
       "        [37, 32, 38],\n",
       "        [37, 35, 33],\n",
       "        [20, 23, 26],\n",
       "        [36, 39, 33]]])"
      ]
     },
     "execution_count": 14,
     "metadata": {},
     "output_type": "execute_result"
    }
   ],
   "source": [
    "#primer array = 2x5x3\n",
    "#segundo array = 3x2x5\n",
    "\n",
    "#.reshape del segundo para que interactue con el primero.\n",
    "\n",
    "segundo_cambiado = np.reshape (segundo_array, (2,5,3))\n",
    "segundo_cambiado"
   ]
  },
  {
   "cell_type": "code",
   "execution_count": 15,
   "metadata": {},
   "outputs": [],
   "source": [
    "suma = np.add(primer_array,segundo_cambiado)"
   ]
  },
  {
   "cell_type": "code",
   "execution_count": 16,
   "metadata": {},
   "outputs": [],
   "source": [
    "#primer array = 2x5x3\n",
    "#segundo array = 3x2x5\n",
    "\n",
    "#.transpose del segundo para que interactue con el primero.\n",
    "\n",
    "primero_cambiado = np.transpose (primer_array,(2,0,1))"
   ]
  },
  {
   "cell_type": "code",
   "execution_count": 17,
   "metadata": {},
   "outputs": [
    {
     "data": {
      "text/plain": [
       "array([[[24, 20, 38, 30, 28],\n",
       "        [35, 23, 32, 28, 27]],\n",
       "\n",
       "       [[38, 34, 37, 38, 23],\n",
       "        [25, 35, 31, 26, 31]],\n",
       "\n",
       "       [[25, 30, 20, 34, 22],\n",
       "        [30, 26, 22, 31, 37]]])"
      ]
     },
     "execution_count": 17,
     "metadata": {},
     "output_type": "execute_result"
    }
   ],
   "source": [
    "primero_cambiado"
   ]
  },
  {
   "cell_type": "code",
   "execution_count": 18,
   "metadata": {},
   "outputs": [
    {
     "data": {
      "text/plain": [
       "array([[[45, 54, 75, 59, 51],\n",
       "        [63, 48, 71, 55, 54]],\n",
       "\n",
       "       [[60, 63, 75, 62, 46],\n",
       "        [62, 67, 67, 63, 63]],\n",
       "\n",
       "       [[63, 67, 55, 67, 42],\n",
       "        [53, 52, 58, 70, 70]]])"
      ]
     },
     "execution_count": 18,
     "metadata": {},
     "output_type": "execute_result"
    }
   ],
   "source": [
    "suma = np.add(primero_cambiado,segundo_array)\n",
    "suma"
   ]
  }
 ],
 "metadata": {
  "kernelspec": {
   "display_name": "Python 3.9.13 ('base')",
   "language": "python",
   "name": "python3"
  },
  "language_info": {
   "codemirror_mode": {
    "name": "ipython",
    "version": 3
   },
   "file_extension": ".py",
   "mimetype": "text/x-python",
   "name": "python",
   "nbconvert_exporter": "python",
   "pygments_lexer": "ipython3",
   "version": "3.9.13 (main, Aug 25 2022, 18:29:29) \n[Clang 12.0.0 ]"
  },
  "orig_nbformat": 4,
  "vscode": {
   "interpreter": {
    "hash": "40d3a090f54c6569ab1632332b64b2c03c39dcf918b08424e98f38b5ae0af88f"
   }
  }
 },
 "nbformat": 4,
 "nbformat_minor": 2
}
