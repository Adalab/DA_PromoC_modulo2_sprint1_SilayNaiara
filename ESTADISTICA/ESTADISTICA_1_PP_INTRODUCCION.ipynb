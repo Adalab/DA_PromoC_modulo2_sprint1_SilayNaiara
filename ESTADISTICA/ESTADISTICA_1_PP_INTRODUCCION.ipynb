{
 "cells": [
  {
   "cell_type": "code",
   "execution_count": 1,
   "metadata": {},
   "outputs": [],
   "source": [
    "## Importación de librerías\n",
    "from pydataset import data\n",
    "import pandas as pd\n",
    "import numpy as np\n",
    "from scipy import stats # importando scipy.stats"
   ]
  },
  {
   "attachments": {},
   "cell_type": "markdown",
   "metadata": {},
   "source": [
    "**Pair Programming Estadística I**"
   ]
  },
  {
   "attachments": {},
   "cell_type": "markdown",
   "metadata": {},
   "source": [
    "Empezamos una nueva lección, y este es el momento de poner en práctica los conocimientos adquiridos del Estadística Descriptiva básica. En este caso vamos a darle un giro de tuerca a la forma en la que se ha resuelto los ejercicios de la Pair de hasta ahora! Para ello os vamos a pedir que por vuestra cuenta busqueis un dataset que os guste, por ejemplo de Kaggle o de donde queráis extraerlo. De esta forma vamos a estudiar los diferentes estadísiticos que contiene en dataset seleccionado Para todas los ejercicios de pair programming de Estadística I, II y III usaremos el dataframe que se tome para el desarrollo de este ejercicio de pair programming."
   ]
  },
  {
   "attachments": {},
   "cell_type": "markdown",
   "metadata": {},
   "source": [
    "Objetivos:\n",
    "\n",
    "Los objetivos de hoy son:"
   ]
  },
  {
   "attachments": {},
   "cell_type": "markdown",
   "metadata": {},
   "source": [
    "1. Buscar un conjunto de datos a analizar:\n",
    "Se recomienda que el conjunto de datos a analizar tenga variables numéricas y categóricas. Ya que también se analizarán."
   ]
  },
  {
   "cell_type": "code",
   "execution_count": 2,
   "metadata": {},
   "outputs": [
    {
     "data": {
      "text/html": [
       "<div>\n",
       "<style scoped>\n",
       "    .dataframe tbody tr th:only-of-type {\n",
       "        vertical-align: middle;\n",
       "    }\n",
       "\n",
       "    .dataframe tbody tr th {\n",
       "        vertical-align: top;\n",
       "    }\n",
       "\n",
       "    .dataframe thead th {\n",
       "        text-align: right;\n",
       "    }\n",
       "</style>\n",
       "<table border=\"1\" class=\"dataframe\">\n",
       "  <thead>\n",
       "    <tr style=\"text-align: right;\">\n",
       "      <th></th>\n",
       "      <th>track_name</th>\n",
       "      <th>artist_name</th>\n",
       "      <th>artist_pop</th>\n",
       "      <th>album</th>\n",
       "      <th>track_pop</th>\n",
       "      <th>danceability</th>\n",
       "      <th>energy</th>\n",
       "      <th>loudness</th>\n",
       "      <th>mode</th>\n",
       "      <th>key</th>\n",
       "      <th>speechiness</th>\n",
       "      <th>acousticness</th>\n",
       "      <th>instrumentalness</th>\n",
       "      <th>liveness</th>\n",
       "      <th>valence</th>\n",
       "      <th>tempo</th>\n",
       "      <th>time_signature</th>\n",
       "      <th>duration_ms</th>\n",
       "    </tr>\n",
       "  </thead>\n",
       "  <tbody>\n",
       "    <tr>\n",
       "      <th>0</th>\n",
       "      <td>Running Up That Hill (A Deal With God)</td>\n",
       "      <td>Kate Bush</td>\n",
       "      <td>81</td>\n",
       "      <td>Hounds Of Love</td>\n",
       "      <td>95</td>\n",
       "      <td>0.629</td>\n",
       "      <td>0.547</td>\n",
       "      <td>-13.123</td>\n",
       "      <td>0</td>\n",
       "      <td>10</td>\n",
       "      <td>0.0550</td>\n",
       "      <td>0.7200</td>\n",
       "      <td>0.003140</td>\n",
       "      <td>0.0604</td>\n",
       "      <td>0.197</td>\n",
       "      <td>108.375</td>\n",
       "      <td>4</td>\n",
       "      <td>298933</td>\n",
       "    </tr>\n",
       "    <tr>\n",
       "      <th>1</th>\n",
       "      <td>As It Was</td>\n",
       "      <td>Harry Styles</td>\n",
       "      <td>91</td>\n",
       "      <td>As It Was</td>\n",
       "      <td>96</td>\n",
       "      <td>0.520</td>\n",
       "      <td>0.731</td>\n",
       "      <td>-5.338</td>\n",
       "      <td>0</td>\n",
       "      <td>6</td>\n",
       "      <td>0.0557</td>\n",
       "      <td>0.3420</td>\n",
       "      <td>0.001010</td>\n",
       "      <td>0.3110</td>\n",
       "      <td>0.662</td>\n",
       "      <td>173.930</td>\n",
       "      <td>4</td>\n",
       "      <td>167303</td>\n",
       "    </tr>\n",
       "    <tr>\n",
       "      <th>2</th>\n",
       "      <td>Sunroof</td>\n",
       "      <td>Nicky Youre</td>\n",
       "      <td>73</td>\n",
       "      <td>Sunroof</td>\n",
       "      <td>44</td>\n",
       "      <td>0.768</td>\n",
       "      <td>0.716</td>\n",
       "      <td>-5.110</td>\n",
       "      <td>1</td>\n",
       "      <td>10</td>\n",
       "      <td>0.0404</td>\n",
       "      <td>0.3500</td>\n",
       "      <td>0.000000</td>\n",
       "      <td>0.1500</td>\n",
       "      <td>0.841</td>\n",
       "      <td>131.430</td>\n",
       "      <td>4</td>\n",
       "      <td>163026</td>\n",
       "    </tr>\n",
       "    <tr>\n",
       "      <th>3</th>\n",
       "      <td>Heat Waves</td>\n",
       "      <td>Glass Animals</td>\n",
       "      <td>80</td>\n",
       "      <td>Dreamland (+ Bonus Levels)</td>\n",
       "      <td>89</td>\n",
       "      <td>0.761</td>\n",
       "      <td>0.525</td>\n",
       "      <td>-6.900</td>\n",
       "      <td>1</td>\n",
       "      <td>11</td>\n",
       "      <td>0.0944</td>\n",
       "      <td>0.4400</td>\n",
       "      <td>0.000007</td>\n",
       "      <td>0.0921</td>\n",
       "      <td>0.531</td>\n",
       "      <td>80.870</td>\n",
       "      <td>4</td>\n",
       "      <td>238805</td>\n",
       "    </tr>\n",
       "    <tr>\n",
       "      <th>4</th>\n",
       "      <td>About Damn Time</td>\n",
       "      <td>Lizzo</td>\n",
       "      <td>81</td>\n",
       "      <td>About Damn Time</td>\n",
       "      <td>92</td>\n",
       "      <td>0.836</td>\n",
       "      <td>0.743</td>\n",
       "      <td>-6.305</td>\n",
       "      <td>0</td>\n",
       "      <td>10</td>\n",
       "      <td>0.0656</td>\n",
       "      <td>0.0995</td>\n",
       "      <td>0.000000</td>\n",
       "      <td>0.3350</td>\n",
       "      <td>0.722</td>\n",
       "      <td>108.966</td>\n",
       "      <td>4</td>\n",
       "      <td>191822</td>\n",
       "    </tr>\n",
       "  </tbody>\n",
       "</table>\n",
       "</div>"
      ],
      "text/plain": [
       "                               track_name    artist_name  artist_pop  \\\n",
       "0  Running Up That Hill (A Deal With God)      Kate Bush          81   \n",
       "1                               As It Was   Harry Styles          91   \n",
       "2                                 Sunroof    Nicky Youre          73   \n",
       "3                              Heat Waves  Glass Animals          80   \n",
       "4                         About Damn Time          Lizzo          81   \n",
       "\n",
       "                        album  track_pop  danceability  energy  loudness  \\\n",
       "0              Hounds Of Love         95         0.629   0.547   -13.123   \n",
       "1                   As It Was         96         0.520   0.731    -5.338   \n",
       "2                     Sunroof         44         0.768   0.716    -5.110   \n",
       "3  Dreamland (+ Bonus Levels)         89         0.761   0.525    -6.900   \n",
       "4             About Damn Time         92         0.836   0.743    -6.305   \n",
       "\n",
       "   mode  key  speechiness  acousticness  instrumentalness  liveness  valence  \\\n",
       "0     0   10       0.0550        0.7200          0.003140    0.0604    0.197   \n",
       "1     0    6       0.0557        0.3420          0.001010    0.3110    0.662   \n",
       "2     1   10       0.0404        0.3500          0.000000    0.1500    0.841   \n",
       "3     1   11       0.0944        0.4400          0.000007    0.0921    0.531   \n",
       "4     0   10       0.0656        0.0995          0.000000    0.3350    0.722   \n",
       "\n",
       "     tempo  time_signature  duration_ms  \n",
       "0  108.375               4       298933  \n",
       "1  173.930               4       167303  \n",
       "2  131.430               4       163026  \n",
       "3   80.870               4       238805  \n",
       "4  108.966               4       191822  "
      ]
     },
     "execution_count": 2,
     "metadata": {},
     "output_type": "execute_result"
    }
   ],
   "source": [
    "tik_tok = pd.read_csv(\"TikTok_songs_2022.csv\")\n",
    "tik_tok.head()\n"
   ]
  },
  {
   "cell_type": "code",
   "execution_count": 3,
   "metadata": {},
   "outputs": [
    {
     "data": {
      "text/plain": [
       "Index(['track_name', 'artist_name', 'artist_pop', 'album', 'track_pop',\n",
       "       'danceability', 'energy', 'loudness', 'mode', 'key', 'speechiness',\n",
       "       'acousticness', 'instrumentalness', 'liveness', 'valence', 'tempo',\n",
       "       'time_signature', 'duration_ms'],\n",
       "      dtype='object')"
      ]
     },
     "execution_count": 3,
     "metadata": {},
     "output_type": "execute_result"
    }
   ],
   "source": [
    "#1\n",
    "tik_tok.columns"
   ]
  },
  {
   "cell_type": "code",
   "execution_count": 4,
   "metadata": {},
   "outputs": [
    {
     "data": {
      "text/plain": [
       "(263, 18)"
      ]
     },
     "execution_count": 4,
     "metadata": {},
     "output_type": "execute_result"
    }
   ],
   "source": [
    "#2\n",
    "tik_tok.shape"
   ]
  },
  {
   "cell_type": "code",
   "execution_count": 5,
   "metadata": {},
   "outputs": [
    {
     "name": "stdout",
     "output_type": "stream",
     "text": [
      "<class 'pandas.core.frame.DataFrame'>\n",
      "RangeIndex: 263 entries, 0 to 262\n",
      "Data columns (total 18 columns):\n",
      " #   Column            Non-Null Count  Dtype  \n",
      "---  ------            --------------  -----  \n",
      " 0   track_name        263 non-null    object \n",
      " 1   artist_name       263 non-null    object \n",
      " 2   artist_pop        263 non-null    int64  \n",
      " 3   album             263 non-null    object \n",
      " 4   track_pop         263 non-null    int64  \n",
      " 5   danceability      263 non-null    float64\n",
      " 6   energy            263 non-null    float64\n",
      " 7   loudness          263 non-null    float64\n",
      " 8   mode              263 non-null    int64  \n",
      " 9   key               263 non-null    int64  \n",
      " 10  speechiness       263 non-null    float64\n",
      " 11  acousticness      263 non-null    float64\n",
      " 12  instrumentalness  263 non-null    float64\n",
      " 13  liveness          263 non-null    float64\n",
      " 14  valence           263 non-null    float64\n",
      " 15  tempo             263 non-null    float64\n",
      " 16  time_signature    263 non-null    int64  \n",
      " 17  duration_ms       263 non-null    int64  \n",
      "dtypes: float64(9), int64(6), object(3)\n",
      "memory usage: 37.1+ KB\n"
     ]
    },
    {
     "name": "stderr",
     "output_type": "stream",
     "text": [
      "/var/folders/qq/jtqr5_ts3_5frnqgj2ky0sjr0000gn/T/ipykernel_56361/1932954193.py:2: FutureWarning: null_counts is deprecated. Use show_counts instead\n",
      "  tik_tok.info(null_counts = True)\n"
     ]
    }
   ],
   "source": [
    "#3. para ver el nombre de las columnas y el tipo de datos que tenemos en cada una y los elementos no nulos.\n",
    "tik_tok.info(null_counts = True)"
   ]
  },
  {
   "cell_type": "code",
   "execution_count": 6,
   "metadata": {},
   "outputs": [
    {
     "data": {
      "text/plain": [
       "track_name          0\n",
       "artist_name         0\n",
       "artist_pop          0\n",
       "album               0\n",
       "track_pop           0\n",
       "danceability        0\n",
       "energy              0\n",
       "loudness            0\n",
       "mode                0\n",
       "key                 0\n",
       "speechiness         0\n",
       "acousticness        0\n",
       "instrumentalness    0\n",
       "liveness            0\n",
       "valence             0\n",
       "tempo               0\n",
       "time_signature      0\n",
       "duration_ms         0\n",
       "dtype: int64"
      ]
     },
     "execution_count": 6,
     "metadata": {},
     "output_type": "execute_result"
    }
   ],
   "source": [
    "#4\n",
    "tik_tok.isnull().sum()"
   ]
  },
  {
   "cell_type": "code",
   "execution_count": 7,
   "metadata": {},
   "outputs": [
    {
     "data": {
      "text/html": [
       "<div>\n",
       "<style scoped>\n",
       "    .dataframe tbody tr th:only-of-type {\n",
       "        vertical-align: middle;\n",
       "    }\n",
       "\n",
       "    .dataframe tbody tr th {\n",
       "        vertical-align: top;\n",
       "    }\n",
       "\n",
       "    .dataframe thead th {\n",
       "        text-align: right;\n",
       "    }\n",
       "</style>\n",
       "<table border=\"1\" class=\"dataframe\">\n",
       "  <thead>\n",
       "    <tr style=\"text-align: right;\">\n",
       "      <th></th>\n",
       "      <th>artist_pop</th>\n",
       "      <th>track_pop</th>\n",
       "      <th>danceability</th>\n",
       "      <th>energy</th>\n",
       "      <th>loudness</th>\n",
       "      <th>mode</th>\n",
       "      <th>key</th>\n",
       "      <th>speechiness</th>\n",
       "      <th>acousticness</th>\n",
       "      <th>instrumentalness</th>\n",
       "      <th>liveness</th>\n",
       "      <th>valence</th>\n",
       "      <th>tempo</th>\n",
       "      <th>time_signature</th>\n",
       "      <th>duration_ms</th>\n",
       "    </tr>\n",
       "  </thead>\n",
       "  <tbody>\n",
       "    <tr>\n",
       "      <th>count</th>\n",
       "      <td>263.000000</td>\n",
       "      <td>263.000000</td>\n",
       "      <td>263.000000</td>\n",
       "      <td>263.000000</td>\n",
       "      <td>263.000000</td>\n",
       "      <td>263.000000</td>\n",
       "      <td>263.000000</td>\n",
       "      <td>263.000000</td>\n",
       "      <td>263.000000</td>\n",
       "      <td>263.000000</td>\n",
       "      <td>263.000000</td>\n",
       "      <td>263.000000</td>\n",
       "      <td>263.000000</td>\n",
       "      <td>263.000000</td>\n",
       "      <td>263.000000</td>\n",
       "    </tr>\n",
       "    <tr>\n",
       "      <th>mean</th>\n",
       "      <td>64.186312</td>\n",
       "      <td>59.844106</td>\n",
       "      <td>0.715338</td>\n",
       "      <td>0.682631</td>\n",
       "      <td>-6.300513</td>\n",
       "      <td>0.536122</td>\n",
       "      <td>5.809886</td>\n",
       "      <td>0.117268</td>\n",
       "      <td>0.193188</td>\n",
       "      <td>0.020244</td>\n",
       "      <td>0.202562</td>\n",
       "      <td>0.506149</td>\n",
       "      <td>122.883696</td>\n",
       "      <td>3.969582</td>\n",
       "      <td>174656.212928</td>\n",
       "    </tr>\n",
       "    <tr>\n",
       "      <th>std</th>\n",
       "      <td>18.146338</td>\n",
       "      <td>24.976524</td>\n",
       "      <td>0.117722</td>\n",
       "      <td>0.141756</td>\n",
       "      <td>1.905114</td>\n",
       "      <td>0.499644</td>\n",
       "      <td>3.657312</td>\n",
       "      <td>0.101417</td>\n",
       "      <td>0.214588</td>\n",
       "      <td>0.109370</td>\n",
       "      <td>0.151808</td>\n",
       "      <td>0.220757</td>\n",
       "      <td>24.396686</td>\n",
       "      <td>0.288168</td>\n",
       "      <td>34785.125564</td>\n",
       "    </tr>\n",
       "    <tr>\n",
       "      <th>min</th>\n",
       "      <td>18.000000</td>\n",
       "      <td>0.000000</td>\n",
       "      <td>0.308000</td>\n",
       "      <td>0.214000</td>\n",
       "      <td>-13.468000</td>\n",
       "      <td>0.000000</td>\n",
       "      <td>0.000000</td>\n",
       "      <td>0.025200</td>\n",
       "      <td>0.000038</td>\n",
       "      <td>0.000000</td>\n",
       "      <td>0.026500</td>\n",
       "      <td>0.036300</td>\n",
       "      <td>62.948000</td>\n",
       "      <td>1.000000</td>\n",
       "      <td>85742.000000</td>\n",
       "    </tr>\n",
       "    <tr>\n",
       "      <th>25%</th>\n",
       "      <td>50.000000</td>\n",
       "      <td>47.000000</td>\n",
       "      <td>0.646000</td>\n",
       "      <td>0.593000</td>\n",
       "      <td>-7.423500</td>\n",
       "      <td>0.000000</td>\n",
       "      <td>2.000000</td>\n",
       "      <td>0.044750</td>\n",
       "      <td>0.028100</td>\n",
       "      <td>0.000000</td>\n",
       "      <td>0.094350</td>\n",
       "      <td>0.349000</td>\n",
       "      <td>106.850500</td>\n",
       "      <td>4.000000</td>\n",
       "      <td>148646.000000</td>\n",
       "    </tr>\n",
       "    <tr>\n",
       "      <th>50%</th>\n",
       "      <td>64.000000</td>\n",
       "      <td>66.000000</td>\n",
       "      <td>0.726000</td>\n",
       "      <td>0.701000</td>\n",
       "      <td>-6.067000</td>\n",
       "      <td>1.000000</td>\n",
       "      <td>6.000000</td>\n",
       "      <td>0.070700</td>\n",
       "      <td>0.120000</td>\n",
       "      <td>0.000003</td>\n",
       "      <td>0.132000</td>\n",
       "      <td>0.485000</td>\n",
       "      <td>123.056000</td>\n",
       "      <td>4.000000</td>\n",
       "      <td>171028.000000</td>\n",
       "    </tr>\n",
       "    <tr>\n",
       "      <th>75%</th>\n",
       "      <td>81.000000</td>\n",
       "      <td>79.500000</td>\n",
       "      <td>0.796500</td>\n",
       "      <td>0.790500</td>\n",
       "      <td>-4.887000</td>\n",
       "      <td>1.000000</td>\n",
       "      <td>9.000000</td>\n",
       "      <td>0.156000</td>\n",
       "      <td>0.298500</td>\n",
       "      <td>0.000334</td>\n",
       "      <td>0.277500</td>\n",
       "      <td>0.680000</td>\n",
       "      <td>130.004500</td>\n",
       "      <td>4.000000</td>\n",
       "      <td>199047.000000</td>\n",
       "    </tr>\n",
       "    <tr>\n",
       "      <th>max</th>\n",
       "      <td>95.000000</td>\n",
       "      <td>97.000000</td>\n",
       "      <td>0.961000</td>\n",
       "      <td>0.955000</td>\n",
       "      <td>-2.634000</td>\n",
       "      <td>1.000000</td>\n",
       "      <td>11.000000</td>\n",
       "      <td>0.481000</td>\n",
       "      <td>0.965000</td>\n",
       "      <td>0.939000</td>\n",
       "      <td>0.790000</td>\n",
       "      <td>0.956000</td>\n",
       "      <td>187.906000</td>\n",
       "      <td>5.000000</td>\n",
       "      <td>298933.000000</td>\n",
       "    </tr>\n",
       "  </tbody>\n",
       "</table>\n",
       "</div>"
      ],
      "text/plain": [
       "       artist_pop   track_pop  danceability      energy    loudness  \\\n",
       "count  263.000000  263.000000    263.000000  263.000000  263.000000   \n",
       "mean    64.186312   59.844106      0.715338    0.682631   -6.300513   \n",
       "std     18.146338   24.976524      0.117722    0.141756    1.905114   \n",
       "min     18.000000    0.000000      0.308000    0.214000  -13.468000   \n",
       "25%     50.000000   47.000000      0.646000    0.593000   -7.423500   \n",
       "50%     64.000000   66.000000      0.726000    0.701000   -6.067000   \n",
       "75%     81.000000   79.500000      0.796500    0.790500   -4.887000   \n",
       "max     95.000000   97.000000      0.961000    0.955000   -2.634000   \n",
       "\n",
       "             mode         key  speechiness  acousticness  instrumentalness  \\\n",
       "count  263.000000  263.000000   263.000000    263.000000        263.000000   \n",
       "mean     0.536122    5.809886     0.117268      0.193188          0.020244   \n",
       "std      0.499644    3.657312     0.101417      0.214588          0.109370   \n",
       "min      0.000000    0.000000     0.025200      0.000038          0.000000   \n",
       "25%      0.000000    2.000000     0.044750      0.028100          0.000000   \n",
       "50%      1.000000    6.000000     0.070700      0.120000          0.000003   \n",
       "75%      1.000000    9.000000     0.156000      0.298500          0.000334   \n",
       "max      1.000000   11.000000     0.481000      0.965000          0.939000   \n",
       "\n",
       "         liveness     valence       tempo  time_signature    duration_ms  \n",
       "count  263.000000  263.000000  263.000000      263.000000     263.000000  \n",
       "mean     0.202562    0.506149  122.883696        3.969582  174656.212928  \n",
       "std      0.151808    0.220757   24.396686        0.288168   34785.125564  \n",
       "min      0.026500    0.036300   62.948000        1.000000   85742.000000  \n",
       "25%      0.094350    0.349000  106.850500        4.000000  148646.000000  \n",
       "50%      0.132000    0.485000  123.056000        4.000000  171028.000000  \n",
       "75%      0.277500    0.680000  130.004500        4.000000  199047.000000  \n",
       "max      0.790000    0.956000  187.906000        5.000000  298933.000000  "
      ]
     },
     "execution_count": 7,
     "metadata": {},
     "output_type": "execute_result"
    }
   ],
   "source": [
    "#5 Principales estadisticos de las columnas\n",
    "tik_tok.describe()"
   ]
  },
  {
   "cell_type": "code",
   "execution_count": 8,
   "metadata": {},
   "outputs": [
    {
     "data": {
      "text/html": [
       "<div>\n",
       "<style scoped>\n",
       "    .dataframe tbody tr th:only-of-type {\n",
       "        vertical-align: middle;\n",
       "    }\n",
       "\n",
       "    .dataframe tbody tr th {\n",
       "        vertical-align: top;\n",
       "    }\n",
       "\n",
       "    .dataframe thead th {\n",
       "        text-align: right;\n",
       "    }\n",
       "</style>\n",
       "<table border=\"1\" class=\"dataframe\">\n",
       "  <thead>\n",
       "    <tr style=\"text-align: right;\">\n",
       "      <th></th>\n",
       "      <th>count</th>\n",
       "      <th>unique</th>\n",
       "      <th>top</th>\n",
       "      <th>freq</th>\n",
       "    </tr>\n",
       "  </thead>\n",
       "  <tbody>\n",
       "    <tr>\n",
       "      <th>track_name</th>\n",
       "      <td>263</td>\n",
       "      <td>258</td>\n",
       "      <td>Say It Right</td>\n",
       "      <td>2</td>\n",
       "    </tr>\n",
       "    <tr>\n",
       "      <th>artist_name</th>\n",
       "      <td>263</td>\n",
       "      <td>199</td>\n",
       "      <td>Doja Cat</td>\n",
       "      <td>8</td>\n",
       "    </tr>\n",
       "    <tr>\n",
       "      <th>album</th>\n",
       "      <td>263</td>\n",
       "      <td>251</td>\n",
       "      <td>Planet Her</td>\n",
       "      <td>4</td>\n",
       "    </tr>\n",
       "  </tbody>\n",
       "</table>\n",
       "</div>"
      ],
      "text/plain": [
       "            count unique           top freq\n",
       "track_name    263    258  Say It Right    2\n",
       "artist_name   263    199      Doja Cat    8\n",
       "album         263    251    Planet Her    4"
      ]
     },
     "execution_count": 8,
     "metadata": {},
     "output_type": "execute_result"
    }
   ],
   "source": [
    "#6 para las variables categóricas\n",
    "tik_tok.describe(include = object).T"
   ]
  },
  {
   "cell_type": "code",
   "execution_count": 9,
   "metadata": {},
   "outputs": [
    {
     "data": {
      "text/plain": [
       "0"
      ]
     },
     "execution_count": 9,
     "metadata": {},
     "output_type": "execute_result"
    }
   ],
   "source": [
    "#8. esto nos devuelve un booleano y para verlo con dato le ponemos el .sum\n",
    "tik_tok.duplicated().sum()"
   ]
  },
  {
   "attachments": {},
   "cell_type": "markdown",
   "metadata": {},
   "source": [
    "2. Extraer los siguentes estadísiticos del conjunto de datos para varias de las variables disponibles:\n",
    "\n",
    "- Media.\n",
    "- Desviación con respecto de la media.\n",
    "- Varianza.\n",
    "- Desviación típica.\n",
    "- Moda.\n",
    "- Mediana.\n",
    "- Media ponderada.\n",
    "- Robustez.\n",
    "- Coeficiente de variación."
   ]
  },
  {
   "cell_type": "code",
   "execution_count": 10,
   "metadata": {},
   "outputs": [
    {
     "data": {
      "text/plain": [
       "0.961"
      ]
     },
     "execution_count": 10,
     "metadata": {},
     "output_type": "execute_result"
    }
   ],
   "source": [
    "# Máximo.\n",
    "maximo = tik_tok[\"danceability\"].max()\n",
    "maximo"
   ]
  },
  {
   "cell_type": "code",
   "execution_count": 11,
   "metadata": {},
   "outputs": [
    {
     "data": {
      "text/plain": [
       "0.308"
      ]
     },
     "execution_count": 11,
     "metadata": {},
     "output_type": "execute_result"
    }
   ],
   "source": [
    "# Mínimo.\n",
    "minimo = tik_tok[\"danceability\"].min()\n",
    "minimo"
   ]
  },
  {
   "cell_type": "code",
   "execution_count": 12,
   "metadata": {},
   "outputs": [
    {
     "data": {
      "text/plain": [
       "0.7153384030418252"
      ]
     },
     "execution_count": 12,
     "metadata": {},
     "output_type": "execute_result"
    }
   ],
   "source": [
    "# Media.\n",
    "media = tik_tok[\"danceability\"].mean()\n",
    "media\n"
   ]
  },
  {
   "cell_type": "code",
   "execution_count": 13,
   "metadata": {},
   "outputs": [
    {
     "data": {
      "text/plain": [
       "0.7153384030418252"
      ]
     },
     "execution_count": 13,
     "metadata": {},
     "output_type": "execute_result"
    }
   ],
   "source": [
    "# Desviación con respecto de la media.\n",
    "diferencia = tik_tok [\"danceability\"] - media\n",
    "desviacion_media = np.abs(media)\n",
    "desviacion_media"
   ]
  },
  {
   "cell_type": "code",
   "execution_count": 14,
   "metadata": {},
   "outputs": [
    {
     "data": {
      "text/plain": [
       "0.013858552985226246"
      ]
     },
     "execution_count": 14,
     "metadata": {},
     "output_type": "execute_result"
    }
   ],
   "source": [
    "# Varianza.\n",
    "tik_tok[\"danceability\"].var()"
   ]
  },
  {
   "cell_type": "code",
   "execution_count": 15,
   "metadata": {},
   "outputs": [
    {
     "data": {
      "text/plain": [
       "0.11772235550321887"
      ]
     },
     "execution_count": 15,
     "metadata": {},
     "output_type": "execute_result"
    }
   ],
   "source": [
    "# Desviación típica.\n",
    "desviacion_tipica = tik_tok[\"danceability\"].std()\n",
    "desviacion_tipica"
   ]
  },
  {
   "cell_type": "code",
   "execution_count": 16,
   "metadata": {},
   "outputs": [
    {
     "data": {
      "text/plain": [
       "0    0.714\n",
       "Name: danceability, dtype: float64"
      ]
     },
     "execution_count": 16,
     "metadata": {},
     "output_type": "execute_result"
    }
   ],
   "source": [
    "# Moda.\n",
    "tik_tok[\"danceability\"].mode()"
   ]
  },
  {
   "cell_type": "code",
   "execution_count": 17,
   "metadata": {},
   "outputs": [
    {
     "data": {
      "text/plain": [
       "0.726"
      ]
     },
     "execution_count": 17,
     "metadata": {},
     "output_type": "execute_result"
    }
   ],
   "source": [
    "# Mediana.\n",
    "tik_tok[\"danceability\"].median()"
   ]
  },
  {
   "cell_type": "code",
   "execution_count": 19,
   "metadata": {},
   "outputs": [
    {
     "data": {
      "text/plain": [
       "263"
      ]
     },
     "execution_count": 19,
     "metadata": {},
     "output_type": "execute_result"
    }
   ],
   "source": [
    "numero_datos = tik_tok.shape[0]\n",
    "numero_datos"
   ]
  },
  {
   "cell_type": "code",
   "execution_count": 20,
   "metadata": {},
   "outputs": [
    {
     "data": {
      "text/plain": [
       "0.0038022813688212928"
      ]
     },
     "execution_count": 20,
     "metadata": {},
     "output_type": "execute_result"
    }
   ],
   "source": [
    "# Robustez de la media.\n",
    "robustez = 1/numero_datos\n",
    "robustez"
   ]
  },
  {
   "cell_type": "code",
   "execution_count": 21,
   "metadata": {},
   "outputs": [
    {
     "data": {
      "text/plain": [
       "6.0764873416270175"
      ]
     },
     "execution_count": 21,
     "metadata": {},
     "output_type": "execute_result"
    }
   ],
   "source": [
    "# Coeficiente de variación = media/desviacion_tipica\n",
    "cociente_de_variacion = media/ desviacion_tipica\n",
    "cociente_de_variacion"
   ]
  },
  {
   "attachments": {},
   "cell_type": "markdown",
   "metadata": {},
   "source": [
    "3. Interpretación de los resultados.\n",
    "\n",
    "Ahora interpreta los resultados obtenidos de los diferentes estadísticos estudiados haciendo hincapié en aspectos interesantes de tus datos y explica lo mejor posible la naturaleza de los mismos."
   ]
  },
  {
   "cell_type": "code",
   "execution_count": null,
   "metadata": {},
   "outputs": [],
   "source": [
    "#El numero de elemetos de esta tabla (canciones) son 263 y sobre ellos hemos estudiado la columna de \"danceability\"\n",
    "#(danzabilidad, es decir cómo de bailables son).\n",
    "\n",
    "\n",
    "#Obsevamos que los valores oscilan entre el 0 y el 1, siendo el máximo 0.961 (muy bailable) y el mínimo 0.308 (ya no tanto).\n",
    "\n",
    "#Como la máxima es alta y la minima no es baja del todo nos da una media de 0,7 (valor muy similar al de la moda y la mediana)\n",
    "#de lo que sacamos que, al menos esta tabla, recoge una gran cantidad de canciones que te invitan a moverte al ritmo de la música.\n",
    "#La similitud de estos datos unidos a la robustez (valor MUY próximo al 0), nos indica la rotundidad y fiabilidada de los datos.\n",
    "\n",
    "#La varianza es ínfima lo que significa que el estilo es muy similar en los temas recogidos en la tabla."
   ]
  }
 ],
 "metadata": {
  "kernelspec": {
   "display_name": "base",
   "language": "python",
   "name": "python3"
  },
  "language_info": {
   "codemirror_mode": {
    "name": "ipython",
    "version": 3
   },
   "file_extension": ".py",
   "mimetype": "text/x-python",
   "name": "python",
   "nbconvert_exporter": "python",
   "pygments_lexer": "ipython3",
   "version": "3.9.13 (main, Aug 25 2022, 18:29:29) \n[Clang 12.0.0 ]"
  },
  "orig_nbformat": 4,
  "vscode": {
   "interpreter": {
    "hash": "40d3a090f54c6569ab1632332b64b2c03c39dcf918b08424e98f38b5ae0af88f"
   }
  }
 },
 "nbformat": 4,
 "nbformat_minor": 2
}
