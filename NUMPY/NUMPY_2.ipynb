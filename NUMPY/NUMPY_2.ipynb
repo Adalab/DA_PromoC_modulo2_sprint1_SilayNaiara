{
 "cells": [
  {
   "cell_type": "code",
   "execution_count": 1,
   "metadata": {},
   "outputs": [],
   "source": [
    "import numpy as np\n",
    "import pandas as pd"
   ]
  },
  {
   "cell_type": "markdown",
   "metadata": {},
   "source": [
    "1.- Cread un array de dos dimensiones de 5 filas y 3 columnas.\n",
    "Sobre el array creado anteriormente, extraed:"
   ]
  },
  {
   "cell_type": "code",
   "execution_count": 2,
   "metadata": {},
   "outputs": [
    {
     "data": {
      "text/plain": [
       "array([[0.5148818 , 0.50311072, 0.02821856],\n",
       "       [0.53492658, 0.49414925, 0.58138712],\n",
       "       [0.11596723, 0.4304443 , 0.99590271],\n",
       "       [0.66703851, 0.9161969 , 0.2377953 ],\n",
       "       [0.55033879, 0.51404069, 0.50744429]])"
      ]
     },
     "execution_count": 2,
     "metadata": {},
     "output_type": "execute_result"
    }
   ],
   "source": [
    "bidimensional = np.random.rand(5, 3)\n",
    "bidimensional"
   ]
  },
  {
   "cell_type": "markdown",
   "metadata": {},
   "source": [
    "- El valor de la primera fila y la segunda columna."
   ]
  },
  {
   "cell_type": "code",
   "execution_count": 3,
   "metadata": {},
   "outputs": [
    {
     "data": {
      "text/plain": [
       "0.503110724035691"
      ]
     },
     "execution_count": 3,
     "metadata": {},
     "output_type": "execute_result"
    }
   ],
   "source": [
    "bidimensional[0,1]"
   ]
  },
  {
   "cell_type": "markdown",
   "metadata": {},
   "source": [
    "- Los valores de la segunda fila y las dos primeras columnas."
   ]
  },
  {
   "cell_type": "code",
   "execution_count": 4,
   "metadata": {},
   "outputs": [
    {
     "data": {
      "text/plain": [
       "array([0.53492658, 0.49414925])"
      ]
     },
     "execution_count": 4,
     "metadata": {},
     "output_type": "execute_result"
    }
   ],
   "source": [
    "bidimensional[1,0:2]"
   ]
  },
  {
   "cell_type": "markdown",
   "metadata": {},
   "source": [
    "- Extraed las filas pares (incluyendo la 0) y todas las columnas."
   ]
  },
  {
   "cell_type": "code",
   "execution_count": 5,
   "metadata": {},
   "outputs": [
    {
     "data": {
      "text/plain": [
       "array([[0.5148818 , 0.50311072, 0.02821856],\n",
       "       [0.11596723, 0.4304443 , 0.99590271],\n",
       "       [0.55033879, 0.51404069, 0.50744429]])"
      ]
     },
     "execution_count": 5,
     "metadata": {},
     "output_type": "execute_result"
    }
   ],
   "source": [
    "bidimensional[0::2,:]"
   ]
  },
  {
   "cell_type": "markdown",
   "metadata": {},
   "source": [
    "- Extraed los valores que sean mayores que 0.5."
   ]
  },
  {
   "cell_type": "code",
   "execution_count": 6,
   "metadata": {},
   "outputs": [
    {
     "data": {
      "text/plain": [
       "array([0.5148818 , 0.50311072, 0.53492658, 0.58138712, 0.99590271,\n",
       "       0.66703851, 0.9161969 , 0.55033879, 0.51404069, 0.50744429])"
      ]
     },
     "execution_count": 6,
     "metadata": {},
     "output_type": "execute_result"
    }
   ],
   "source": [
    "bidimensional[bidimensional > 0.5]"
   ]
  },
  {
   "cell_type": "markdown",
   "metadata": {},
   "source": [
    "- Extraed los valores menores que 0.2 o mayores que 0.5"
   ]
  },
  {
   "cell_type": "code",
   "execution_count": 9,
   "metadata": {},
   "outputs": [
    {
     "data": {
      "text/plain": [
       "array([0.5148818 , 0.50311072, 0.02821856, 0.53492658, 0.58138712,\n",
       "       0.11596723, 0.99590271, 0.66703851, 0.9161969 , 0.55033879,\n",
       "       0.51404069, 0.50744429])"
      ]
     },
     "execution_count": 9,
     "metadata": {},
     "output_type": "execute_result"
    }
   ],
   "source": [
    "bidimensional[(bidimensional < 0.2) | (bidimensional > 0.5)]"
   ]
  },
  {
   "cell_type": "markdown",
   "metadata": {},
   "source": [
    "2.- Cread dos array de tres dimensiones:\n",
    "El primero de 2 matrices, 5 filas y 3 columnas.\n",
    "El segundo de 3 matrices, 2 filas y 5 columnas."
   ]
  },
  {
   "cell_type": "code",
   "execution_count": 15,
   "metadata": {},
   "outputs": [
    {
     "data": {
      "text/plain": [
       "array([[[34, 23, 25],\n",
       "        [24, 39, 36],\n",
       "        [28, 38, 38],\n",
       "        [31, 32, 29],\n",
       "        [32, 20, 29]],\n",
       "\n",
       "       [[32, 31, 23],\n",
       "        [20, 27, 30],\n",
       "        [37, 24, 23],\n",
       "        [38, 29, 25],\n",
       "        [38, 26, 33]]])"
      ]
     },
     "execution_count": 15,
     "metadata": {},
     "output_type": "execute_result"
    }
   ],
   "source": [
    "primer_array = np.random.randint(20,40,(2,5,3))\n",
    "primer_array"
   ]
  },
  {
   "cell_type": "code",
   "execution_count": 17,
   "metadata": {},
   "outputs": [
    {
     "data": {
      "text/plain": [
       "array([[[29, 20, 26, 39, 33],\n",
       "        [30, 35, 34, 28, 32]],\n",
       "\n",
       "       [[24, 22, 34, 33, 32],\n",
       "        [28, 26, 36, 28, 26]],\n",
       "\n",
       "       [[36, 27, 32, 24, 25],\n",
       "        [23, 34, 29, 31, 24]]])"
      ]
     },
     "execution_count": 17,
     "metadata": {},
     "output_type": "execute_result"
    }
   ],
   "source": [
    "segundo_array = np.random.randint(20,40,(3,2,5))\n",
    "segundo_array"
   ]
  },
  {
   "cell_type": "markdown",
   "metadata": {},
   "source": [
    "Haced un análisis exploratorio de los array creados. Recordad que en el ejercicio de ayer nos creamos una función para esto."
   ]
  },
  {
   "cell_type": "code",
   "execution_count": 49,
   "metadata": {},
   "outputs": [],
   "source": [
    "def propiedades_array(array):\n",
    "    tipo=f\"Los elementos son de tipo {array.dtype}\"\n",
    "    tamaño=f\"Tiene {array.size} elementos\"\n",
    "    forma=f\"Su forma es: {array.shape}\"\n",
    "    dimension=f\"Es de {array.ndim} dimensiones\"\n",
    "    return tipo,tamaño,forma,dimension"
   ]
  },
  {
   "cell_type": "code",
   "execution_count": 50,
   "metadata": {},
   "outputs": [
    {
     "data": {
      "text/plain": [
       "('Los elementos son de tipo int64',\n",
       " 'Tiene 30 elementos',\n",
       " 'Su forma es: (2, 5, 3)',\n",
       " 'Es de 3 dimensiones')"
      ]
     },
     "execution_count": 50,
     "metadata": {},
     "output_type": "execute_result"
    }
   ],
   "source": [
    "propiedades_array (primer_array)"
   ]
  },
  {
   "cell_type": "code",
   "execution_count": 51,
   "metadata": {},
   "outputs": [
    {
     "data": {
      "text/plain": [
       "('Los elementos son de tipo int64',\n",
       " 'Tiene 30 elementos',\n",
       " 'Su forma es: (3, 2, 5)',\n",
       " 'Es de 3 dimensiones')"
      ]
     },
     "execution_count": 51,
     "metadata": {},
     "output_type": "execute_result"
    }
   ],
   "source": [
    "propiedades_array (segundo_array)"
   ]
  },
  {
   "cell_type": "markdown",
   "metadata": {},
   "source": [
    "Sumad los dos arrays. ¿Podéis? ¿Por qué?"
   ]
  },
  {
   "cell_type": "code",
   "execution_count": null,
   "metadata": {},
   "outputs": [],
   "source": [
    "No se puede por que no tienen la misma forma."
   ]
  },
  {
   "cell_type": "markdown",
   "metadata": {},
   "source": [
    "Para cambiar la forma de un array y poder hacer operaciones entre arrays que tienen distintas\n",
    "formas hemos aprendido dos métodos:\n",
    "- .reshape()\n",
    "- .transpose()\n",
    "\n",
    "Utiliza estas dos funciones para cambiar la forma de los array y hacer operaciones entre ellos."
   ]
  },
  {
   "cell_type": "code",
   "execution_count": 35,
   "metadata": {},
   "outputs": [
    {
     "data": {
      "text/plain": [
       "array([[[29, 20, 26],\n",
       "        [39, 33, 30],\n",
       "        [35, 34, 28],\n",
       "        [32, 24, 22],\n",
       "        [34, 33, 32]],\n",
       "\n",
       "       [[28, 26, 36],\n",
       "        [28, 26, 36],\n",
       "        [27, 32, 24],\n",
       "        [25, 23, 34],\n",
       "        [29, 31, 24]]])"
      ]
     },
     "execution_count": 35,
     "metadata": {},
     "output_type": "execute_result"
    }
   ],
   "source": [
    "#primer array = 2x5x3\n",
    "#segundo array = 3x2x5\n",
    "\n",
    "#.reshape del segundo para que interactue con el primero.\n",
    "\n",
    "segundo_cambiado = np.reshape (segundo_array, (2,5,3))\n",
    "segundo_cambiado"
   ]
  },
  {
   "cell_type": "code",
   "execution_count": 37,
   "metadata": {},
   "outputs": [],
   "source": [
    "suma = np.add(primer_array,segundo_cambiado)"
   ]
  },
  {
   "cell_type": "code",
   "execution_count": 45,
   "metadata": {},
   "outputs": [],
   "source": [
    "#primer array = 2x5x3\n",
    "#segundo array = 3x2x5\n",
    "\n",
    "#.transpose del segundo para que interactue con el primero.\n",
    "\n",
    "primero_cambiado = np.transpose (primer_array,(2,0,1))"
   ]
  },
  {
   "cell_type": "code",
   "execution_count": 46,
   "metadata": {},
   "outputs": [
    {
     "data": {
      "text/plain": [
       "array([[[34, 24, 28, 31, 32],\n",
       "        [32, 20, 37, 38, 38]],\n",
       "\n",
       "       [[23, 39, 38, 32, 20],\n",
       "        [31, 27, 24, 29, 26]],\n",
       "\n",
       "       [[25, 36, 38, 29, 29],\n",
       "        [23, 30, 23, 25, 33]]])"
      ]
     },
     "execution_count": 46,
     "metadata": {},
     "output_type": "execute_result"
    }
   ],
   "source": [
    "primero_cambiado"
   ]
  },
  {
   "cell_type": "code",
   "execution_count": 48,
   "metadata": {},
   "outputs": [
    {
     "data": {
      "text/plain": [
       "array([[[63, 44, 54, 70, 65],\n",
       "        [62, 55, 71, 66, 70]],\n",
       "\n",
       "       [[47, 61, 72, 65, 52],\n",
       "        [59, 53, 60, 57, 52]],\n",
       "\n",
       "       [[61, 63, 70, 53, 54],\n",
       "        [46, 64, 52, 56, 57]]])"
      ]
     },
     "execution_count": 48,
     "metadata": {},
     "output_type": "execute_result"
    }
   ],
   "source": [
    "suma = np.add(primero_cambiado,segundo_array)\n",
    "suma"
   ]
  }
 ],
 "metadata": {
  "kernelspec": {
   "display_name": "Python 3.9.13 ('base')",
   "language": "python",
   "name": "python3"
  },
  "language_info": {
   "codemirror_mode": {
    "name": "ipython",
    "version": 3
   },
   "file_extension": ".py",
   "mimetype": "text/x-python",
   "name": "python",
   "nbconvert_exporter": "python",
   "pygments_lexer": "ipython3",
   "version": "3.9.13"
  },
  "orig_nbformat": 4,
  "vscode": {
   "interpreter": {
    "hash": "40d3a090f54c6569ab1632332b64b2c03c39dcf918b08424e98f38b5ae0af88f"
   }
  }
 },
 "nbformat": 4,
 "nbformat_minor": 2
}
