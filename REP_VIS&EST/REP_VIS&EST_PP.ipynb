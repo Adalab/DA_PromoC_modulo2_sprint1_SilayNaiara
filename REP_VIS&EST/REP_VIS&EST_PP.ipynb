{
 "cells": [
  {
   "cell_type": "code",
   "execution_count": 1,
   "metadata": {},
   "outputs": [],
   "source": [
    "import matplotlib.pyplot as plt\n",
    "import numpy as np\n",
    "import pandas as pd\n",
    "import seaborn as sns\n",
    "from scipy.stats import skew\n",
    "import scipy.stats as st"
   ]
  },
  {
   "attachments": {},
   "cell_type": "markdown",
   "metadata": {},
   "source": [
    "\n",
    "**Pair Programming Repaso Conceptos Resumidos**"
   ]
  },
  {
   "attachments": {},
   "cell_type": "markdown",
   "metadata": {},
   "source": [
    "Al igual que en los ejercicios de pair programming de estadística, deberéis elegir un set de datos, puede ser de cualquier tipo.\n",
    "\n",
    "El objetivo de este pair programming es:"
   ]
  },
  {
   "cell_type": "code",
   "execution_count": 2,
   "metadata": {},
   "outputs": [
    {
     "data": {
      "text/html": [
       "<div>\n",
       "<style scoped>\n",
       "    .dataframe tbody tr th:only-of-type {\n",
       "        vertical-align: middle;\n",
       "    }\n",
       "\n",
       "    .dataframe tbody tr th {\n",
       "        vertical-align: top;\n",
       "    }\n",
       "\n",
       "    .dataframe thead th {\n",
       "        text-align: right;\n",
       "    }\n",
       "</style>\n",
       "<table border=\"1\" class=\"dataframe\">\n",
       "  <thead>\n",
       "    <tr style=\"text-align: right;\">\n",
       "      <th></th>\n",
       "      <th>Country</th>\n",
       "      <th>Rank</th>\n",
       "      <th>Account</th>\n",
       "      <th>Title</th>\n",
       "      <th>Link</th>\n",
       "      <th>Category</th>\n",
       "      <th>Followers</th>\n",
       "      <th>Audience Country</th>\n",
       "      <th>Authentic engagement</th>\n",
       "      <th>Engagement avg</th>\n",
       "      <th>Scraped</th>\n",
       "    </tr>\n",
       "  </thead>\n",
       "  <tbody>\n",
       "    <tr>\n",
       "      <th>0</th>\n",
       "      <td>All</td>\n",
       "      <td>1</td>\n",
       "      <td>cristiano</td>\n",
       "      <td>Cristiano Ronaldo</td>\n",
       "      <td>https://www.instagram.com/cristiano/</td>\n",
       "      <td>Sports with a ball</td>\n",
       "      <td>400100000.0</td>\n",
       "      <td>India</td>\n",
       "      <td>7800000.0</td>\n",
       "      <td>9500000.0</td>\n",
       "      <td>2022-02-07 16:50:24.798803</td>\n",
       "    </tr>\n",
       "    <tr>\n",
       "      <th>1</th>\n",
       "      <td>All</td>\n",
       "      <td>2</td>\n",
       "      <td>kyliejenner</td>\n",
       "      <td>Kylie 🤍</td>\n",
       "      <td>https://www.instagram.com/kyliejenner/</td>\n",
       "      <td>Fashion|Modeling|Beauty</td>\n",
       "      <td>308800000.0</td>\n",
       "      <td>United States</td>\n",
       "      <td>6200000.0</td>\n",
       "      <td>10100000.0</td>\n",
       "      <td>2022-02-07 16:50:24.798803</td>\n",
       "    </tr>\n",
       "    <tr>\n",
       "      <th>2</th>\n",
       "      <td>All</td>\n",
       "      <td>3</td>\n",
       "      <td>leomessi</td>\n",
       "      <td>Leo Messi</td>\n",
       "      <td>https://www.instagram.com/leomessi/</td>\n",
       "      <td>Sports with a ball|Family</td>\n",
       "      <td>306300000.0</td>\n",
       "      <td>Argentina</td>\n",
       "      <td>4800000.0</td>\n",
       "      <td>6500000.0</td>\n",
       "      <td>2022-02-07 16:50:24.798803</td>\n",
       "    </tr>\n",
       "    <tr>\n",
       "      <th>3</th>\n",
       "      <td>All</td>\n",
       "      <td>4</td>\n",
       "      <td>kendalljenner</td>\n",
       "      <td>Kendall</td>\n",
       "      <td>https://www.instagram.com/kendalljenner/</td>\n",
       "      <td>Modeling|Fashion</td>\n",
       "      <td>217800000.0</td>\n",
       "      <td>United States</td>\n",
       "      <td>3400000.0</td>\n",
       "      <td>5400000.0</td>\n",
       "      <td>2022-02-07 16:50:24.798803</td>\n",
       "    </tr>\n",
       "    <tr>\n",
       "      <th>4</th>\n",
       "      <td>All</td>\n",
       "      <td>5</td>\n",
       "      <td>selenagomez</td>\n",
       "      <td>Selena Gomez</td>\n",
       "      <td>https://www.instagram.com/selenagomez/</td>\n",
       "      <td>Music|Lifestyle</td>\n",
       "      <td>295800000.0</td>\n",
       "      <td>United States</td>\n",
       "      <td>2700000.0</td>\n",
       "      <td>3600000.0</td>\n",
       "      <td>2022-02-07 16:50:24.798803</td>\n",
       "    </tr>\n",
       "  </tbody>\n",
       "</table>\n",
       "</div>"
      ],
      "text/plain": [
       "  Country  Rank        Account              Title  \\\n",
       "0     All     1      cristiano  Cristiano Ronaldo   \n",
       "1     All     2    kyliejenner            Kylie 🤍   \n",
       "2     All     3       leomessi          Leo Messi   \n",
       "3     All     4  kendalljenner            Kendall   \n",
       "4     All     5    selenagomez       Selena Gomez   \n",
       "\n",
       "                                       Link                   Category  \\\n",
       "0      https://www.instagram.com/cristiano/         Sports with a ball   \n",
       "1    https://www.instagram.com/kyliejenner/    Fashion|Modeling|Beauty   \n",
       "2       https://www.instagram.com/leomessi/  Sports with a ball|Family   \n",
       "3  https://www.instagram.com/kendalljenner/           Modeling|Fashion   \n",
       "4    https://www.instagram.com/selenagomez/            Music|Lifestyle   \n",
       "\n",
       "     Followers Audience Country  Authentic engagement  Engagement avg  \\\n",
       "0  400100000.0            India             7800000.0       9500000.0   \n",
       "1  308800000.0    United States             6200000.0      10100000.0   \n",
       "2  306300000.0        Argentina             4800000.0       6500000.0   \n",
       "3  217800000.0    United States             3400000.0       5400000.0   \n",
       "4  295800000.0    United States             2700000.0       3600000.0   \n",
       "\n",
       "                      Scraped  \n",
       "0  2022-02-07 16:50:24.798803  \n",
       "1  2022-02-07 16:50:24.798803  \n",
       "2  2022-02-07 16:50:24.798803  \n",
       "3  2022-02-07 16:50:24.798803  \n",
       "4  2022-02-07 16:50:24.798803  "
      ]
     },
     "execution_count": 2,
     "metadata": {},
     "output_type": "execute_result"
    }
   ],
   "source": [
    "influencer = pd.read_csv(\"instagram_global_top_1000.csv\")\n",
    "influencer.head()"
   ]
  },
  {
   "attachments": {},
   "cell_type": "markdown",
   "metadata": {},
   "source": [
    "Hacer una exploración inicial del dataframe:"
   ]
  },
  {
   "attachments": {},
   "cell_type": "markdown",
   "metadata": {},
   "source": [
    "¿Cuántas columnas tiene?"
   ]
  },
  {
   "cell_type": "code",
   "execution_count": 3,
   "metadata": {},
   "outputs": [
    {
     "data": {
      "text/plain": [
       "Index(['Country', 'Rank', 'Account', 'Title', 'Link', 'Category', 'Followers',\n",
       "       'Audience Country', 'Authentic engagement', 'Engagement avg',\n",
       "       'Scraped'],\n",
       "      dtype='object')"
      ]
     },
     "execution_count": 3,
     "metadata": {},
     "output_type": "execute_result"
    }
   ],
   "source": [
    "#1\n",
    "influencer.columns\n",
    "\n",
    "# nombre de las columnas"
   ]
  },
  {
   "attachments": {},
   "cell_type": "markdown",
   "metadata": {},
   "source": [
    "¿Cuántas filas tiene?"
   ]
  },
  {
   "cell_type": "code",
   "execution_count": 4,
   "metadata": {},
   "outputs": [
    {
     "data": {
      "text/plain": [
       "(1000, 11)"
      ]
     },
     "execution_count": 4,
     "metadata": {},
     "output_type": "execute_result"
    }
   ],
   "source": [
    "#2\n",
    "influencer.shape\n",
    "\n",
    "#1000 filas 11 columnas"
   ]
  },
  {
   "attachments": {},
   "cell_type": "markdown",
   "metadata": {},
   "source": [
    "¿Cuántas nulos tiene?\n",
    "\n",
    "¿Qué tipo de datos tenemos en el dataframe?"
   ]
  },
  {
   "cell_type": "code",
   "execution_count": 5,
   "metadata": {},
   "outputs": [
    {
     "name": "stdout",
     "output_type": "stream",
     "text": [
      "<class 'pandas.core.frame.DataFrame'>\n",
      "RangeIndex: 1000 entries, 0 to 999\n",
      "Data columns (total 11 columns):\n",
      " #   Column                Non-Null Count  Dtype  \n",
      "---  ------                --------------  -----  \n",
      " 0   Country               1000 non-null   object \n",
      " 1   Rank                  1000 non-null   int64  \n",
      " 2   Account               1000 non-null   object \n",
      " 3   Title                 983 non-null    object \n",
      " 4   Link                  1000 non-null   object \n",
      " 5   Category              909 non-null    object \n",
      " 6   Followers             1000 non-null   float64\n",
      " 7   Audience Country      993 non-null    object \n",
      " 8   Authentic engagement  1000 non-null   float64\n",
      " 9   Engagement avg        1000 non-null   float64\n",
      " 10  Scraped               1000 non-null   object \n",
      "dtypes: float64(3), int64(1), object(7)\n",
      "memory usage: 86.1+ KB\n"
     ]
    },
    {
     "name": "stderr",
     "output_type": "stream",
     "text": [
      "/var/folders/qq/jtqr5_ts3_5frnqgj2ky0sjr0000gn/T/ipykernel_70949/2220235063.py:2: FutureWarning: null_counts is deprecated. Use show_counts instead\n",
      "  influencer.info(null_counts = True)\n"
     ]
    }
   ],
   "source": [
    "#3. para ver el nombre de las columnas y el tipo de datos que tenemos en cada una y los elementos no nulos.\n",
    "influencer.info(null_counts = True)"
   ]
  },
  {
   "cell_type": "code",
   "execution_count": 6,
   "metadata": {},
   "outputs": [
    {
     "data": {
      "text/plain": [
       "Country                  0\n",
       "Rank                     0\n",
       "Account                  0\n",
       "Title                   17\n",
       "Link                     0\n",
       "Category                91\n",
       "Followers                0\n",
       "Audience Country         7\n",
       "Authentic engagement     0\n",
       "Engagement avg           0\n",
       "Scraped                  0\n",
       "dtype: int64"
      ]
     },
     "execution_count": 6,
     "metadata": {},
     "output_type": "execute_result"
    }
   ],
   "source": [
    "#4\n",
    "influencer.isnull().sum()"
   ]
  },
  {
   "attachments": {},
   "cell_type": "markdown",
   "metadata": {},
   "source": [
    "¿Y duplicados?"
   ]
  },
  {
   "cell_type": "code",
   "execution_count": 7,
   "metadata": {},
   "outputs": [
    {
     "data": {
      "text/plain": [
       "0"
      ]
     },
     "execution_count": 7,
     "metadata": {},
     "output_type": "execute_result"
    }
   ],
   "source": [
    "influencer.duplicated().sum()\n",
    "\n",
    "#no tenemos duplicados, en el caso de tenerlos deberiamos eliminarlos."
   ]
  },
  {
   "cell_type": "code",
   "execution_count": 8,
   "metadata": {},
   "outputs": [
    {
     "data": {
      "text/html": [
       "<div>\n",
       "<style scoped>\n",
       "    .dataframe tbody tr th:only-of-type {\n",
       "        vertical-align: middle;\n",
       "    }\n",
       "\n",
       "    .dataframe tbody tr th {\n",
       "        vertical-align: top;\n",
       "    }\n",
       "\n",
       "    .dataframe thead th {\n",
       "        text-align: right;\n",
       "    }\n",
       "</style>\n",
       "<table border=\"1\" class=\"dataframe\">\n",
       "  <thead>\n",
       "    <tr style=\"text-align: right;\">\n",
       "      <th></th>\n",
       "      <th>count</th>\n",
       "      <th>mean</th>\n",
       "      <th>std</th>\n",
       "      <th>min</th>\n",
       "      <th>25%</th>\n",
       "      <th>50%</th>\n",
       "      <th>75%</th>\n",
       "      <th>max</th>\n",
       "    </tr>\n",
       "  </thead>\n",
       "  <tbody>\n",
       "    <tr>\n",
       "      <th>Rank</th>\n",
       "      <td>1000.0</td>\n",
       "      <td>500.5</td>\n",
       "      <td>2.888194e+02</td>\n",
       "      <td>1.0</td>\n",
       "      <td>250.75</td>\n",
       "      <td>500.5</td>\n",
       "      <td>750.25</td>\n",
       "      <td>1000.0</td>\n",
       "    </tr>\n",
       "    <tr>\n",
       "      <th>Followers</th>\n",
       "      <td>1000.0</td>\n",
       "      <td>24836100.0</td>\n",
       "      <td>3.872143e+07</td>\n",
       "      <td>2800000.0</td>\n",
       "      <td>9000000.00</td>\n",
       "      <td>14400000.0</td>\n",
       "      <td>25650000.00</td>\n",
       "      <td>469600000.0</td>\n",
       "    </tr>\n",
       "    <tr>\n",
       "      <th>Authentic engagement</th>\n",
       "      <td>1000.0</td>\n",
       "      <td>649122.8</td>\n",
       "      <td>1.098804e+06</td>\n",
       "      <td>0.0</td>\n",
       "      <td>209100.00</td>\n",
       "      <td>363700.0</td>\n",
       "      <td>683250.00</td>\n",
       "      <td>13400000.0</td>\n",
       "    </tr>\n",
       "    <tr>\n",
       "      <th>Engagement avg</th>\n",
       "      <td>1000.0</td>\n",
       "      <td>865388.6</td>\n",
       "      <td>1.267515e+06</td>\n",
       "      <td>52000.0</td>\n",
       "      <td>308600.00</td>\n",
       "      <td>523900.0</td>\n",
       "      <td>950800.00</td>\n",
       "      <td>13400000.0</td>\n",
       "    </tr>\n",
       "  </tbody>\n",
       "</table>\n",
       "</div>"
      ],
      "text/plain": [
       "                       count        mean           std        min         25%  \\\n",
       "Rank                  1000.0       500.5  2.888194e+02        1.0      250.75   \n",
       "Followers             1000.0  24836100.0  3.872143e+07  2800000.0  9000000.00   \n",
       "Authentic engagement  1000.0    649122.8  1.098804e+06        0.0   209100.00   \n",
       "Engagement avg        1000.0    865388.6  1.267515e+06    52000.0   308600.00   \n",
       "\n",
       "                             50%          75%          max  \n",
       "Rank                       500.5       750.25       1000.0  \n",
       "Followers             14400000.0  25650000.00  469600000.0  \n",
       "Authentic engagement    363700.0    683250.00   13400000.0  \n",
       "Engagement avg          523900.0    950800.00   13400000.0  "
      ]
     },
     "execution_count": 8,
     "metadata": {},
     "output_type": "execute_result"
    }
   ],
   "source": [
    "#5. Principales estadisticos de las columnas\n",
    "#el .t nos transpone el resultado del describe\n",
    "# describe es para las variables numericas\n",
    "influencer.describe().T"
   ]
  },
  {
   "cell_type": "code",
   "execution_count": 9,
   "metadata": {},
   "outputs": [
    {
     "data": {
      "text/html": [
       "<div>\n",
       "<style scoped>\n",
       "    .dataframe tbody tr th:only-of-type {\n",
       "        vertical-align: middle;\n",
       "    }\n",
       "\n",
       "    .dataframe tbody tr th {\n",
       "        vertical-align: top;\n",
       "    }\n",
       "\n",
       "    .dataframe thead th {\n",
       "        text-align: right;\n",
       "    }\n",
       "</style>\n",
       "<table border=\"1\" class=\"dataframe\">\n",
       "  <thead>\n",
       "    <tr style=\"text-align: right;\">\n",
       "      <th></th>\n",
       "      <th>count</th>\n",
       "      <th>unique</th>\n",
       "      <th>top</th>\n",
       "      <th>freq</th>\n",
       "    </tr>\n",
       "  </thead>\n",
       "  <tbody>\n",
       "    <tr>\n",
       "      <th>Country</th>\n",
       "      <td>1000</td>\n",
       "      <td>1</td>\n",
       "      <td>All</td>\n",
       "      <td>1000</td>\n",
       "    </tr>\n",
       "    <tr>\n",
       "      <th>Account</th>\n",
       "      <td>1000</td>\n",
       "      <td>1000</td>\n",
       "      <td>cristiano</td>\n",
       "      <td>1</td>\n",
       "    </tr>\n",
       "    <tr>\n",
       "      <th>Title</th>\n",
       "      <td>983</td>\n",
       "      <td>982</td>\n",
       "      <td>НАСТЯ ИВЛЕЕВА</td>\n",
       "      <td>2</td>\n",
       "    </tr>\n",
       "    <tr>\n",
       "      <th>Link</th>\n",
       "      <td>1000</td>\n",
       "      <td>1000</td>\n",
       "      <td>https://www.instagram.com/cristiano/</td>\n",
       "      <td>1</td>\n",
       "    </tr>\n",
       "    <tr>\n",
       "      <th>Category</th>\n",
       "      <td>909</td>\n",
       "      <td>165</td>\n",
       "      <td>Music</td>\n",
       "      <td>170</td>\n",
       "    </tr>\n",
       "    <tr>\n",
       "      <th>Audience Country</th>\n",
       "      <td>993</td>\n",
       "      <td>31</td>\n",
       "      <td>United States</td>\n",
       "      <td>283</td>\n",
       "    </tr>\n",
       "    <tr>\n",
       "      <th>Scraped</th>\n",
       "      <td>1000</td>\n",
       "      <td>1</td>\n",
       "      <td>2022-02-07 16:50:24.798803</td>\n",
       "      <td>1000</td>\n",
       "    </tr>\n",
       "  </tbody>\n",
       "</table>\n",
       "</div>"
      ],
      "text/plain": [
       "                 count unique                                   top  freq\n",
       "Country           1000      1                                   All  1000\n",
       "Account           1000   1000                             cristiano     1\n",
       "Title              983    982                         НАСТЯ ИВЛЕЕВА     2\n",
       "Link              1000   1000  https://www.instagram.com/cristiano/     1\n",
       "Category           909    165                                 Music   170\n",
       "Audience Country   993     31                         United States   283\n",
       "Scraped           1000      1            2022-02-07 16:50:24.798803  1000"
      ]
     },
     "execution_count": 9,
     "metadata": {},
     "output_type": "execute_result"
    }
   ],
   "source": [
    "#6 #para las variables categóricas\n",
    "influencer.describe(include = object).T"
   ]
  },
  {
   "attachments": {},
   "cell_type": "markdown",
   "metadata": {},
   "source": [
    "etc..."
   ]
  },
  {
   "attachments": {},
   "cell_type": "markdown",
   "metadata": {},
   "source": [
    "-----------------------------------"
   ]
  },
  {
   "attachments": {},
   "cell_type": "markdown",
   "metadata": {},
   "source": [
    "Plantead una serie de preguntas como las que fuimos contestando en la clase invertida.\n",
    "\n",
    "Contestad a las preguntas planteadas usando los principales estadísticos que hemos aprendido y gráficas que mejor se ajusten."
   ]
  },
  {
   "cell_type": "code",
   "execution_count": null,
   "metadata": {},
   "outputs": [],
   "source": [
    "## Media, Mediana , Moda, mínimo y máximo\n",
    "\n",
    "# - ¿Cuál es la cantidad más repetida de followers?\n",
    "# Para responder a esta pregunta, podemos recurrir a las dos medidas de centro más comunes: la **media**, la **mediana** o la **moda**."
   ]
  },
  {
   "cell_type": "code",
   "execution_count": null,
   "metadata": {},
   "outputs": [
    {
     "name": "stdout",
     "output_type": "stream",
     "text": [
      "El número de seguidores de la cuenta que tiene más es 469600000.0 y del que tiene menos es 2800000.0\n"
     ]
    }
   ],
   "source": [
    "# - ¿Cual es la cantidad más alta de followers más followers? ¿Y más baja? \n",
    "\n",
    "max_influencers = influencer[\"Followers\"].max()\n",
    "min_influencers = influencer[\"Followers\"].min()\n",
    "\n",
    "print(f\"El número de seguidores de la cuenta que tiene más es {max_influencers} y del que tiene menos es {min_influencers}\")"
   ]
  },
  {
   "cell_type": "code",
   "execution_count": null,
   "metadata": {},
   "outputs": [
    {
     "name": "stdout",
     "output_type": "stream",
     "text": [
      "El número medio de seguidores es: 24836100.0\n"
     ]
    }
   ],
   "source": [
    "# - ¿Cuál es el número medio de followers?\n",
    "# MEDIA: es un promedio de todos los seguidores.\n",
    "\n",
    "media_influencers = influencer[\"Followers\"].mean()\n",
    "\n",
    "print(f\"El número medio de seguidores es: {media_influencers}\")"
   ]
  },
  {
   "cell_type": "code",
   "execution_count": null,
   "metadata": {},
   "outputs": [
    {
     "name": "stdout",
     "output_type": "stream",
     "text": [
      "La mediana de los seguidores de Instagram es 14400000.0\n"
     ]
    }
   ],
   "source": [
    "# MEDIANA: es el valor de la posición central de una lista ordenada de números, en este caso, la columna sobre la que queremos calcular la mediana.\n",
    "\n",
    "mediana_influencers = influencer[\"Followers\"].median()\n",
    "\n",
    "print(f\"La mediana de los seguidores de Instagram es {mediana_influencers}\")"
   ]
  },
  {
   "cell_type": "code",
   "execution_count": null,
   "metadata": {},
   "outputs": [
    {
     "data": {
      "image/png": "[encoded data removed]",
      "text/plain": [
       "<Figure size 640x480 with 1 Axes>"
      ]
     },
     "metadata": {},
     "output_type": "display_data"
    }
   ],
   "source": [
    "# sigamos recordando un poco gráficas. En este caso. queremos ver como están distribuidos los seguidores.\n",
    "# Para esto podemos usar un histplot o un barplot\n",
    "\n",
    "sns.histplot(data = influencer, x = \"Followers\", bins = 50, color = \"grey\")\n",
    "plt.axvline(media_influencers, color='blue')\n",
    "plt.axvline(mediana_influencers, color='green');"
   ]
  },
  {
   "cell_type": "code",
   "execution_count": null,
   "metadata": {},
   "outputs": [
    {
     "name": "stdout",
     "output_type": "stream",
     "text": [
      "5.841688024139401\n"
     ]
    }
   ],
   "source": [
    "skewness_influencers = skew(influencer['Followers'])\n",
    "print(skewness_influencers)"
   ]
  },
  {
   "cell_type": "code",
   "execution_count": null,
   "metadata": {},
   "outputs": [
    {
     "name": "stdout",
     "output_type": "stream",
     "text": [
      "(22433253.549261674, 27238946.450738326)\n",
      "24836100.0\n"
     ]
    },
    {
     "name": "stderr",
     "output_type": "stream",
     "text": [
      "/var/folders/qq/jtqr5_ts3_5frnqgj2ky0sjr0000gn/T/ipykernel_63607/2403773870.py:6: DeprecationWarning: Use of keyword argument `alpha` for method `interval` is deprecated. Use first positional argument or keyword argument `confidence` instead.\n",
      "  print(st.t.interval(alpha=0.95, df=len(dato)-1, loc=np.mean(dato), scale=st.sem(dato)))\n"
     ]
    }
   ],
   "source": [
    "# Queremos realizar el calculo de confianza para la cantidad de Followers\n",
    "dato = influencer['Followers']\n",
    "\n",
    "# Utilizamos Scipy para calcular el intervalo de confianza del 95% de la media de los datos.\n",
    "# Dicho intervalo nos indica donde está la media de los valores de los seguidores con un 95 de probabilidad.\n",
    "print(st.t.interval(alpha=0.95, df=len(dato)-1, loc=np.mean(dato), scale=st.sem(dato)))\n",
    "\n",
    "# Lo comparamos con la media obtenido de los datos disponibles hasta el momento.\n",
    "print(np.mean(dato))"
   ]
  },
  {
   "cell_type": "code",
   "execution_count": null,
   "metadata": {},
   "outputs": [
    {
     "name": "stdout",
     "output_type": "stream",
     "text": [
      "La varianza de los seguidores es 1499349496286270.5\n"
     ]
    }
   ],
   "source": [
    "varianza_influencers = influencer[\"Followers\"].var()\n",
    "\n",
    "print(f\"La varianza de los seguidores es {varianza_influencers}\")"
   ]
  },
  {
   "cell_type": "code",
   "execution_count": null,
   "metadata": {},
   "outputs": [],
   "source": [
    "# nos creamos una columna nueva donde restamos a cada número de seguidores el valor de la media.\n",
    "# Esta columna nos dirá lo que se desvía de la media, lo que  es lo mismo que la desviación respecto a la media\n",
    "\n",
    "influencer[\"DESVIO\"] = influencer[\"Followers\"] - influencer[\"Followers\"].mean()"
   ]
  },
  {
   "cell_type": "code",
   "execution_count": null,
   "metadata": {},
   "outputs": [
    {
     "data": {
      "text/html": [
       "<div>\n",
       "<style scoped>\n",
       "    .dataframe tbody tr th:only-of-type {\n",
       "        vertical-align: middle;\n",
       "    }\n",
       "\n",
       "    .dataframe tbody tr th {\n",
       "        vertical-align: top;\n",
       "    }\n",
       "\n",
       "    .dataframe thead th {\n",
       "        text-align: right;\n",
       "    }\n",
       "</style>\n",
       "<table border=\"1\" class=\"dataframe\">\n",
       "  <thead>\n",
       "    <tr style=\"text-align: right;\">\n",
       "      <th></th>\n",
       "      <th>Country</th>\n",
       "      <th>Rank</th>\n",
       "      <th>Account</th>\n",
       "      <th>Title</th>\n",
       "      <th>Link</th>\n",
       "      <th>Category</th>\n",
       "      <th>Followers</th>\n",
       "      <th>Audience Country</th>\n",
       "      <th>Authentic engagement</th>\n",
       "      <th>Engagement avg</th>\n",
       "      <th>Scraped</th>\n",
       "      <th>DESVIO</th>\n",
       "    </tr>\n",
       "  </thead>\n",
       "  <tbody>\n",
       "    <tr>\n",
       "      <th>0</th>\n",
       "      <td>All</td>\n",
       "      <td>1</td>\n",
       "      <td>cristiano</td>\n",
       "      <td>Cristiano Ronaldo</td>\n",
       "      <td>https://www.instagram.com/cristiano/</td>\n",
       "      <td>Sports with a ball</td>\n",
       "      <td>400100000.0</td>\n",
       "      <td>India</td>\n",
       "      <td>7800000.0</td>\n",
       "      <td>9500000.0</td>\n",
       "      <td>2022-02-07 16:50:24.798803</td>\n",
       "      <td>375263900.0</td>\n",
       "    </tr>\n",
       "    <tr>\n",
       "      <th>1</th>\n",
       "      <td>All</td>\n",
       "      <td>2</td>\n",
       "      <td>kyliejenner</td>\n",
       "      <td>Kylie 🤍</td>\n",
       "      <td>https://www.instagram.com/kyliejenner/</td>\n",
       "      <td>Fashion|Modeling|Beauty</td>\n",
       "      <td>308800000.0</td>\n",
       "      <td>United States</td>\n",
       "      <td>6200000.0</td>\n",
       "      <td>10100000.0</td>\n",
       "      <td>2022-02-07 16:50:24.798803</td>\n",
       "      <td>283963900.0</td>\n",
       "    </tr>\n",
       "    <tr>\n",
       "      <th>2</th>\n",
       "      <td>All</td>\n",
       "      <td>3</td>\n",
       "      <td>leomessi</td>\n",
       "      <td>Leo Messi</td>\n",
       "      <td>https://www.instagram.com/leomessi/</td>\n",
       "      <td>Sports with a ball|Family</td>\n",
       "      <td>306300000.0</td>\n",
       "      <td>Argentina</td>\n",
       "      <td>4800000.0</td>\n",
       "      <td>6500000.0</td>\n",
       "      <td>2022-02-07 16:50:24.798803</td>\n",
       "      <td>281463900.0</td>\n",
       "    </tr>\n",
       "    <tr>\n",
       "      <th>3</th>\n",
       "      <td>All</td>\n",
       "      <td>4</td>\n",
       "      <td>kendalljenner</td>\n",
       "      <td>Kendall</td>\n",
       "      <td>https://www.instagram.com/kendalljenner/</td>\n",
       "      <td>Modeling|Fashion</td>\n",
       "      <td>217800000.0</td>\n",
       "      <td>United States</td>\n",
       "      <td>3400000.0</td>\n",
       "      <td>5400000.0</td>\n",
       "      <td>2022-02-07 16:50:24.798803</td>\n",
       "      <td>192963900.0</td>\n",
       "    </tr>\n",
       "    <tr>\n",
       "      <th>4</th>\n",
       "      <td>All</td>\n",
       "      <td>5</td>\n",
       "      <td>selenagomez</td>\n",
       "      <td>Selena Gomez</td>\n",
       "      <td>https://www.instagram.com/selenagomez/</td>\n",
       "      <td>Music|Lifestyle</td>\n",
       "      <td>295800000.0</td>\n",
       "      <td>United States</td>\n",
       "      <td>2700000.0</td>\n",
       "      <td>3600000.0</td>\n",
       "      <td>2022-02-07 16:50:24.798803</td>\n",
       "      <td>270963900.0</td>\n",
       "    </tr>\n",
       "  </tbody>\n",
       "</table>\n",
       "</div>"
      ],
      "text/plain": [
       "  Country  Rank        Account              Title  \\\n",
       "0     All     1      cristiano  Cristiano Ronaldo   \n",
       "1     All     2    kyliejenner            Kylie 🤍   \n",
       "2     All     3       leomessi          Leo Messi   \n",
       "3     All     4  kendalljenner            Kendall   \n",
       "4     All     5    selenagomez       Selena Gomez   \n",
       "\n",
       "                                       Link                   Category  \\\n",
       "0      https://www.instagram.com/cristiano/         Sports with a ball   \n",
       "1    https://www.instagram.com/kyliejenner/    Fashion|Modeling|Beauty   \n",
       "2       https://www.instagram.com/leomessi/  Sports with a ball|Family   \n",
       "3  https://www.instagram.com/kendalljenner/           Modeling|Fashion   \n",
       "4    https://www.instagram.com/selenagomez/            Music|Lifestyle   \n",
       "\n",
       "     Followers Audience Country  Authentic engagement  Engagement avg  \\\n",
       "0  400100000.0            India             7800000.0       9500000.0   \n",
       "1  308800000.0    United States             6200000.0      10100000.0   \n",
       "2  306300000.0        Argentina             4800000.0       6500000.0   \n",
       "3  217800000.0    United States             3400000.0       5400000.0   \n",
       "4  295800000.0    United States             2700000.0       3600000.0   \n",
       "\n",
       "                      Scraped       DESVIO  \n",
       "0  2022-02-07 16:50:24.798803  375263900.0  \n",
       "1  2022-02-07 16:50:24.798803  283963900.0  \n",
       "2  2022-02-07 16:50:24.798803  281463900.0  \n",
       "3  2022-02-07 16:50:24.798803  192963900.0  \n",
       "4  2022-02-07 16:50:24.798803  270963900.0  "
      ]
     },
     "execution_count": 32,
     "metadata": {},
     "output_type": "execute_result"
    }
   ],
   "source": [
    "influencer.head()"
   ]
  },
  {
   "cell_type": "code",
   "execution_count": null,
   "metadata": {},
   "outputs": [
    {
     "data": {
      "text/plain": [
       "0.0"
      ]
     },
     "execution_count": 31,
     "metadata": {},
     "output_type": "execute_result"
    }
   ],
   "source": [
    "# si ahora sumamos todos esos valores, nos dará cero. Como vemos al ejecutar esta celda. \n",
    "\n",
    "influencer[\"DESVIO\"].sum()"
   ]
  },
  {
   "cell_type": "code",
   "execution_count": null,
   "metadata": {},
   "outputs": [
    {
     "name": "stdout",
     "output_type": "stream",
     "text": [
      "La desviación estándar de nuestro datos es 38721434.58455885\n"
     ]
    }
   ],
   "source": [
    "desv_estand_influencers = influencer[\"Followers\"].std()\n",
    "\n",
    "print(f\"La desviación estándar de nuestro datos es {desv_estand_influencers}\")"
   ]
  },
  {
   "cell_type": "code",
   "execution_count": null,
   "metadata": {},
   "outputs": [],
   "source": [
    "# Percentiles y Rangos intercuartilicos"
   ]
  },
  {
   "cell_type": "code",
   "execution_count": null,
   "metadata": {},
   "outputs": [
    {
     "data": {
      "image/png": "[encoded data removed]",
      "text/plain": [
       "<Figure size 1000x500 with 1 Axes>"
      ]
     },
     "metadata": {},
     "output_type": "display_data"
    }
   ],
   "source": [
    "plt.figure(figsize = (10, 5))\n",
    "sns.set(style=\"darkgrid\")\n",
    "\n",
    "# Creando el grafico de cajas\n",
    "sns.boxplot(data = influencer, x = \"Followers\", color= \"blue\");"
   ]
  },
  {
   "cell_type": "code",
   "execution_count": null,
   "metadata": {},
   "outputs": [
    {
     "name": "stdout",
     "output_type": "stream",
     "text": [
      "El primer cuartil es 9000000.0 y el tercer cuartil es 25650000.0\n"
     ]
    }
   ],
   "source": [
    "# calculamos los cuartiles\n",
    "\n",
    "q3, q1 = np.percentile(influencer[\"Followers\"], [75, 25])\n",
    "\n",
    "print(f\"El primer cuartil es {q1} y el tercer cuartil es {q3}\")"
   ]
  },
  {
   "cell_type": "code",
   "execution_count": null,
   "metadata": {},
   "outputs": [
    {
     "name": "stdout",
     "output_type": "stream",
     "text": [
      "El rango intercuartílico es: 16650000.0\n"
     ]
    }
   ],
   "source": [
    "# rango intercuartilico\n",
    "\n",
    "riq = q3 - q1\n",
    "print(\"El rango intercuartílico es:\", riq)"
   ]
  },
  {
   "cell_type": "code",
   "execution_count": null,
   "metadata": {},
   "outputs": [],
   "source": [
    "# Coeficiente de variación"
   ]
  },
  {
   "cell_type": "code",
   "execution_count": null,
   "metadata": {},
   "outputs": [
    {
     "data": {
      "text/plain": [
       "array(['All'], dtype=object)"
      ]
     },
     "execution_count": 53,
     "metadata": {},
     "output_type": "execute_result"
    }
   ],
   "source": [
    "influencer['Country'].unique()"
   ]
  },
  {
   "cell_type": "code",
   "execution_count": null,
   "metadata": {},
   "outputs": [],
   "source": [
    "paises_influencers = influencer[influencer[\"Regionname\"] == 'Northern Victoria']\n",
    "paises_influencers.head(2)"
   ]
  }
 ],
 "metadata": {
  "kernelspec": {
   "display_name": "base",
   "language": "python",
   "name": "python3"
  },
  "language_info": {
   "codemirror_mode": {
    "name": "ipython",
    "version": 3
   },
   "file_extension": ".py",
   "mimetype": "text/x-python",
   "name": "python",
   "nbconvert_exporter": "python",
   "pygments_lexer": "ipython3",
   "version": "3.9.13"
  },
  "orig_nbformat": 4,
  "vscode": {
   "interpreter": {
    "hash": "40d3a090f54c6569ab1632332b64b2c03c39dcf918b08424e98f38b5ae0af88f"
   }
  }
 },
 "nbformat": 4,
 "nbformat_minor": 2
}
