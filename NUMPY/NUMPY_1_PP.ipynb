{
 "cells": [
  {
   "cell_type": "code",
   "execution_count": 4,
   "metadata": {},
   "outputs": [],
   "source": [
    "import numpy as np\n",
    "import pandas as pd"
   ]
  },
  {
   "attachments": {},
   "cell_type": "markdown",
   "metadata": {},
   "source": [
    "**Pair Programming NumPy I**"
   ]
  },
  {
   "attachments": {},
   "cell_type": "markdown",
   "metadata": {},
   "source": [
    "1. Cread tres arrays: de una, dos y tres dimensiones.\n",
    "Lo podéis hacer usando los métodos de random que hemos aprendido o a través de listas en algunos casos.\n",
    "\n",
    "  📌 Nota: El array de 2 dimensiones debe ser de 2 filas y 3 columnas.\n",
    "El array de 3 dimensiones debe ser de 2 matrices, 3 filas y 5 columnas."
   ]
  },
  {
   "cell_type": "code",
   "execution_count": 5,
   "metadata": {},
   "outputs": [
    {
     "data": {
      "text/plain": [
       "array([ 5, 18,  5, 43, 40])"
      ]
     },
     "execution_count": 5,
     "metadata": {},
     "output_type": "execute_result"
    }
   ],
   "source": [
    "array_1dimension = np.random.randint(0,50, 5)\n",
    "array_1dimension"
   ]
  },
  {
   "cell_type": "code",
   "execution_count": 22,
   "metadata": {},
   "outputs": [
    {
     "data": {
      "text/plain": [
       "array([[ 0, 18, 18],\n",
       "       [ 1, 42,  5]])"
      ]
     },
     "execution_count": 22,
     "metadata": {},
     "output_type": "execute_result"
    }
   ],
   "source": [
    "array_2dimensiones = np.random.randint(0,50,(2,3))\n",
    "array_2dimensiones"
   ]
  },
  {
   "cell_type": "code",
   "execution_count": 7,
   "metadata": {},
   "outputs": [
    {
     "data": {
      "text/plain": [
       "array([[[28, 18, 47,  9, 20],\n",
       "        [40, 30, 20, 29, 15],\n",
       "        [29, 24, 42, 16, 46]],\n",
       "\n",
       "       [[16, 29,  0,  1, 38],\n",
       "        [14, 32,  2, 46, 15],\n",
       "        [ 9, 47, 44, 36, 30]]])"
      ]
     },
     "execution_count": 7,
     "metadata": {},
     "output_type": "execute_result"
    }
   ],
   "source": [
    "array_3dimensiones = np.random.randint(0,50,(2,3,5))\n",
    "array_3dimensiones"
   ]
  },
  {
   "attachments": {},
   "cell_type": "markdown",
   "metadata": {},
   "source": [
    "\n",
    "2. Chequead las las propiedades básicas de cada array que os hayáis creado. Usad en una función que nos devuelva las propiedades de un array que le pasemos."
   ]
  },
  {
   "cell_type": "code",
   "execution_count": 8,
   "metadata": {},
   "outputs": [
    {
     "data": {
      "text/plain": [
       "(2, 3)"
      ]
     },
     "execution_count": 8,
     "metadata": {},
     "output_type": "execute_result"
    }
   ],
   "source": [
    "array_2dimensiones.shape "
   ]
  },
  {
   "cell_type": "code",
   "execution_count": 12,
   "metadata": {},
   "outputs": [
    {
     "data": {
      "text/plain": [
       "(2, 3, 5)"
      ]
     },
     "execution_count": 12,
     "metadata": {},
     "output_type": "execute_result"
    }
   ],
   "source": [
    "array_3dimensiones.shape "
   ]
  },
  {
   "cell_type": "code",
   "execution_count": 9,
   "metadata": {},
   "outputs": [
    {
     "data": {
      "text/plain": [
       "6"
      ]
     },
     "execution_count": 9,
     "metadata": {},
     "output_type": "execute_result"
    }
   ],
   "source": [
    "array_2dimensiones.size"
   ]
  },
  {
   "cell_type": "code",
   "execution_count": 13,
   "metadata": {},
   "outputs": [
    {
     "data": {
      "text/plain": [
       "30"
      ]
     },
     "execution_count": 13,
     "metadata": {},
     "output_type": "execute_result"
    }
   ],
   "source": [
    "array_3dimensiones.size"
   ]
  },
  {
   "cell_type": "code",
   "execution_count": 10,
   "metadata": {},
   "outputs": [
    {
     "data": {
      "text/plain": [
       "2"
      ]
     },
     "execution_count": 10,
     "metadata": {},
     "output_type": "execute_result"
    }
   ],
   "source": [
    "array_2dimensiones.ndim"
   ]
  },
  {
   "cell_type": "code",
   "execution_count": 14,
   "metadata": {},
   "outputs": [
    {
     "data": {
      "text/plain": [
       "3"
      ]
     },
     "execution_count": 14,
     "metadata": {},
     "output_type": "execute_result"
    }
   ],
   "source": [
    "array_3dimensiones.ndim"
   ]
  },
  {
   "cell_type": "code",
   "execution_count": 11,
   "metadata": {},
   "outputs": [
    {
     "data": {
      "text/plain": [
       "dtype('int64')"
      ]
     },
     "execution_count": 11,
     "metadata": {},
     "output_type": "execute_result"
    }
   ],
   "source": [
    "array_2dimensiones.dtype"
   ]
  },
  {
   "cell_type": "code",
   "execution_count": 15,
   "metadata": {},
   "outputs": [
    {
     "data": {
      "text/plain": [
       "dtype('int64')"
      ]
     },
     "execution_count": 15,
     "metadata": {},
     "output_type": "execute_result"
    }
   ],
   "source": [
    "array_3dimensiones.dtype"
   ]
  },
  {
   "attachments": {},
   "cell_type": "markdown",
   "metadata": {},
   "source": [
    "3. Cread una matriz identidad de dos dimensiones de 3 filas y 3 columnas."
   ]
  },
  {
   "cell_type": "code",
   "execution_count": 16,
   "metadata": {},
   "outputs": [
    {
     "data": {
      "text/plain": [
       "array([[1., 0., 0., 0., 0.],\n",
       "       [0., 1., 0., 0., 0.],\n",
       "       [0., 0., 1., 0., 0.],\n",
       "       [0., 0., 0., 1., 0.],\n",
       "       [0., 0., 0., 0., 1.]])"
      ]
     },
     "execution_count": 16,
     "metadata": {},
     "output_type": "execute_result"
    }
   ],
   "source": [
    "matriz_identidad = np.identity(5)\n",
    "matriz_identidad"
   ]
  },
  {
   "attachments": {},
   "cell_type": "markdown",
   "metadata": {},
   "source": [
    "4. Cread una matriz de tres dimensiones de unos igual a la martiz de tres dimensiones creada en el primer ejercicio."
   ]
  },
  {
   "cell_type": "code",
   "execution_count": 25,
   "metadata": {},
   "outputs": [
    {
     "data": {
      "text/plain": [
       "array([[[1, 1, 1, 1, 1],\n",
       "        [1, 1, 1, 1, 1],\n",
       "        [1, 1, 1, 1, 1]],\n",
       "\n",
       "       [[1, 1, 1, 1, 1],\n",
       "        [1, 1, 1, 1, 1],\n",
       "        [1, 1, 1, 1, 1]]])"
      ]
     },
     "execution_count": 25,
     "metadata": {},
     "output_type": "execute_result"
    }
   ],
   "source": [
    "matriz_unos = np.ones_like(array_3dimensiones)\n",
    "matriz_unos"
   ]
  },
  {
   "attachments": {},
   "cell_type": "markdown",
   "metadata": {},
   "source": [
    "5. Es el momento de hacer algunas operaciones entre arrays.\n",
    "- ¿Se puede sumar el array de dos dimensiones que creamos en el primer ejecicios a la matriz identidad? ¿Por qué?\n",
    "En caso de que no se puedan sumar, busca una solución para sumar una matriz identidad a otra. La solución puede ser crear un array nuevo."
   ]
  },
  {
   "cell_type": "code",
   "execution_count": null,
   "metadata": {},
   "outputs": [],
   "source": [
    "#no se pueden sumar por que no tienen la misma forma ni las mismas dimensiones."
   ]
  },
  {
   "cell_type": "code",
   "execution_count": 24,
   "metadata": {},
   "outputs": [
    {
     "data": {
      "text/plain": [
       "array([[18, 12, 29, 18,  4],\n",
       "       [49, 43, 34, 39, 37],\n",
       "       [32, 49, 36,  6, 24],\n",
       "       [27, 25, 11, 16, 38],\n",
       "       [39,  0, 41, 16, 37]])"
      ]
     },
     "execution_count": 24,
     "metadata": {},
     "output_type": "execute_result"
    }
   ],
   "source": [
    "array_2dimensiones_mod = np.random.randint(0,50,(5,5))\n",
    "array_2dimensiones_mod"
   ]
  },
  {
   "cell_type": "code",
   "execution_count": 27,
   "metadata": {},
   "outputs": [
    {
     "data": {
      "text/plain": [
       "array([[19., 12., 29., 18.,  4.],\n",
       "       [49., 44., 34., 39., 37.],\n",
       "       [32., 49., 37.,  6., 24.],\n",
       "       [27., 25., 11., 17., 38.],\n",
       "       [39.,  0., 41., 16., 38.]])"
      ]
     },
     "execution_count": 27,
     "metadata": {},
     "output_type": "execute_result"
    }
   ],
   "source": [
    "suma = np.add(matriz_identidad,array_2dimensiones_mod)\n",
    "suma"
   ]
  },
  {
   "attachments": {},
   "cell_type": "markdown",
   "metadata": {},
   "source": [
    "- Multiplicad la matriz identidad por la nueva matriz que os creasteis en el ejercicio anterior."
   ]
  },
  {
   "cell_type": "code",
   "execution_count": 29,
   "metadata": {},
   "outputs": [
    {
     "data": {
      "text/plain": [
       "array([[18.,  0.,  0.,  0.,  0.],\n",
       "       [ 0., 43.,  0.,  0.,  0.],\n",
       "       [ 0.,  0., 36.,  0.,  0.],\n",
       "       [ 0.,  0.,  0., 16.,  0.],\n",
       "       [ 0.,  0.,  0.,  0., 37.]])"
      ]
     },
     "execution_count": 29,
     "metadata": {},
     "output_type": "execute_result"
    }
   ],
   "source": [
    "multiplicacion = np.multiply(matriz_identidad, array_2dimensiones_mod)\n",
    "multiplicacion"
   ]
  },
  {
   "attachments": {},
   "cell_type": "markdown",
   "metadata": {},
   "source": [
    "- Dividid las dos matrices."
   ]
  },
  {
   "cell_type": "code",
   "execution_count": 37,
   "metadata": {},
   "outputs": [
    {
     "name": "stderr",
     "output_type": "stream",
     "text": [
      "/var/folders/qq/jtqr5_ts3_5frnqgj2ky0sjr0000gn/T/ipykernel_17438/1360652678.py:1: RuntimeWarning: invalid value encountered in true_divide\n",
      "  div = np.divide(matriz_identidad, array_2dimensiones_mod)\n"
     ]
    },
    {
     "data": {
      "text/plain": [
       "array([[0.05555556, 0.        , 0.        , 0.        , 0.        ],\n",
       "       [0.        , 0.02325581, 0.        , 0.        , 0.        ],\n",
       "       [0.        , 0.        , 0.02777778, 0.        , 0.        ],\n",
       "       [0.        , 0.        , 0.        , 0.0625    , 0.        ],\n",
       "       [0.        ,        nan, 0.        , 0.        , 0.02702703]])"
      ]
     },
     "execution_count": 37,
     "metadata": {},
     "output_type": "execute_result"
    }
   ],
   "source": [
    "div = np.divide(matriz_identidad, array_2dimensiones_mod)\n",
    "div"
   ]
  },
  {
   "cell_type": "code",
   "execution_count": 38,
   "metadata": {},
   "outputs": [
    {
     "name": "stderr",
     "output_type": "stream",
     "text": [
      "/var/folders/qq/jtqr5_ts3_5frnqgj2ky0sjr0000gn/T/ipykernel_17438/3540778571.py:1: RuntimeWarning: divide by zero encountered in true_divide\n",
      "  div2 = np.divide(array_2dimensiones_mod, matriz_identidad )\n",
      "/var/folders/qq/jtqr5_ts3_5frnqgj2ky0sjr0000gn/T/ipykernel_17438/3540778571.py:1: RuntimeWarning: invalid value encountered in true_divide\n",
      "  div2 = np.divide(array_2dimensiones_mod, matriz_identidad )\n"
     ]
    },
    {
     "data": {
      "text/plain": [
       "array([[18., inf, inf, inf, inf],\n",
       "       [inf, 43., inf, inf, inf],\n",
       "       [inf, inf, 36., inf, inf],\n",
       "       [inf, inf, inf, 16., inf],\n",
       "       [inf, nan, inf, inf, 37.]])"
      ]
     },
     "execution_count": 38,
     "metadata": {},
     "output_type": "execute_result"
    }
   ],
   "source": [
    "div2 = np.divide(array_2dimensiones_mod, matriz_identidad )\n",
    "div2"
   ]
  }
 ],
 "metadata": {
  "kernelspec": {
   "display_name": "base",
   "language": "python",
   "name": "python3"
  },
  "language_info": {
   "codemirror_mode": {
    "name": "ipython",
    "version": 3
   },
   "file_extension": ".py",
   "mimetype": "text/x-python",
   "name": "python",
   "nbconvert_exporter": "python",
   "pygments_lexer": "ipython3",
   "version": "3.9.13 (main, Aug 25 2022, 18:29:29) \n[Clang 12.0.0 ]"
  },
  "orig_nbformat": 4,
  "vscode": {
   "interpreter": {
    "hash": "40d3a090f54c6569ab1632332b64b2c03c39dcf918b08424e98f38b5ae0af88f"
   }
  }
 },
 "nbformat": 4,
 "nbformat_minor": 2
}
